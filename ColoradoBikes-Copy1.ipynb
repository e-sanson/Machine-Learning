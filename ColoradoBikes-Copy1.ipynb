{
 "cells": [
  {
   "cell_type": "markdown",
   "metadata": {},
   "source": [
    "# Colorado Bike Usage\n",
    "\n",
    "An example of poisson regression estimating \n",
    "[Colorado's bike usage](https://data.colorado.gov/Transportation/Bicycle-and-Pedestrian-Counts-in-Colorado/q2qp-xhnj/data) at different tracking stations as a function of\n",
    "1. Location\n",
    "2. Calendar Year\n",
    "3. Month of the year.\n",
    "4. Time of the day.\n"
   ]
  },
  {
   "cell_type": "markdown",
   "metadata": {},
   "source": [
    "## Preliminaries"
   ]
  },
  {
   "cell_type": "markdown",
   "metadata": {},
   "source": [
    "### Imports"
   ]
  },
  {
   "cell_type": "code",
   "execution_count": 1,
   "metadata": {
    "ExecuteTime": {
     "end_time": "2019-11-01T10:44:34.081590Z",
     "start_time": "2019-11-01T10:44:33.196827Z"
    }
   },
   "outputs": [],
   "source": [
    "import calendar\n",
    "\n",
    "import numpy as np\n",
    "\n",
    "import matplotlib.pyplot as plt\n",
    "\n",
    "from scipy.special import factorial\n",
    "from sklearn.linear_model import LinearRegression\n",
    "import scipy.stats as stats\n",
    "import scipy.optimize as optimize\n",
    "import pandas as pd\n",
    "from sklearn.model_selection import train_test_split\n",
    "\n",
    "import sys\n",
    "sys.path.append(\"../..\")\n",
    "from E4525_ML.poisson_regression import PoissonRegression,PoissonRegressionSGD\n",
    "\n",
    "\n",
    "%matplotlib inline"
   ]
  },
  {
   "cell_type": "markdown",
   "metadata": {},
   "source": [
    "### Random Seed"
   ]
  },
  {
   "cell_type": "code",
   "execution_count": 2,
   "metadata": {
    "ExecuteTime": {
     "end_time": "2019-11-01T10:44:34.085276Z",
     "start_time": "2019-11-01T10:44:34.083108Z"
    }
   },
   "outputs": [],
   "source": [
    "seed=56373\n",
    "np.random.seed(seed)"
   ]
  },
  {
   "cell_type": "markdown",
   "metadata": {},
   "source": [
    "### Data"
   ]
  },
  {
   "cell_type": "code",
   "execution_count": 3,
   "metadata": {
    "ExecuteTime": {
     "end_time": "2019-11-01T10:44:34.089746Z",
     "start_time": "2019-11-01T10:44:34.086866Z"
    }
   },
   "outputs": [],
   "source": [
    "raw_dir=\"../../raw/poisson\""
   ]
  },
  {
   "cell_type": "code",
   "execution_count": 4,
   "metadata": {
    "ExecuteTime": {
     "end_time": "2019-11-01T10:44:34.094634Z",
     "start_time": "2019-11-01T10:44:34.091933Z"
    }
   },
   "outputs": [],
   "source": [
    "filename=raw_dir+\"/Colorado_Bike_and_Pedestrian_Count_Data.csv\""
   ]
  },
  {
   "cell_type": "code",
   "execution_count": 5,
   "metadata": {
    "ExecuteTime": {
     "end_time": "2019-11-01T10:44:34.368521Z",
     "start_time": "2019-11-01T10:44:34.096766Z"
    }
   },
   "outputs": [
    {
     "data": {
      "text/html": [
       "<div>\n",
       "<style scoped>\n",
       "    .dataframe tbody tr th:only-of-type {\n",
       "        vertical-align: middle;\n",
       "    }\n",
       "\n",
       "    .dataframe tbody tr th {\n",
       "        vertical-align: top;\n",
       "    }\n",
       "\n",
       "    .dataframe thead th {\n",
       "        text-align: right;\n",
       "    }\n",
       "</style>\n",
       "<table border=\"1\" class=\"dataframe\">\n",
       "  <thead>\n",
       "    <tr style=\"text-align: right;\">\n",
       "      <th></th>\n",
       "      <th>stationId</th>\n",
       "      <th>dataCollected</th>\n",
       "      <th>county</th>\n",
       "      <th>location</th>\n",
       "      <th>lat</th>\n",
       "      <th>long</th>\n",
       "      <th>direction</th>\n",
       "      <th>month</th>\n",
       "      <th>year</th>\n",
       "      <th>dataDate</th>\n",
       "      <th>...</th>\n",
       "      <th>hr15</th>\n",
       "      <th>hr16</th>\n",
       "      <th>hr17</th>\n",
       "      <th>hr18</th>\n",
       "      <th>hr19</th>\n",
       "      <th>hr20</th>\n",
       "      <th>hr21</th>\n",
       "      <th>hr22</th>\n",
       "      <th>hr23</th>\n",
       "      <th>Location 1</th>\n",
       "    </tr>\n",
       "  </thead>\n",
       "  <tbody>\n",
       "    <tr>\n",
       "      <th>0</th>\n",
       "      <td>B00001</td>\n",
       "      <td>BIKE &amp; PEDESTRIAN</td>\n",
       "      <td>Denver</td>\n",
       "      <td>Platte River Trail south of REI\\n</td>\n",
       "      <td>39.75382</td>\n",
       "      <td>-105.01009</td>\n",
       "      <td>North</td>\n",
       "      <td>7</td>\n",
       "      <td>2010</td>\n",
       "      <td>07/29/2010 12:00:00 AM</td>\n",
       "      <td>...</td>\n",
       "      <td>38</td>\n",
       "      <td>51</td>\n",
       "      <td>28</td>\n",
       "      <td>53</td>\n",
       "      <td>60</td>\n",
       "      <td>43</td>\n",
       "      <td>20</td>\n",
       "      <td>17</td>\n",
       "      <td>2</td>\n",
       "      <td>(39.75382, -105.01009)</td>\n",
       "    </tr>\n",
       "    <tr>\n",
       "      <th>1</th>\n",
       "      <td>B00001</td>\n",
       "      <td>BIKE &amp; PEDESTRIAN</td>\n",
       "      <td>Denver</td>\n",
       "      <td>Platte River Trail south of REI\\n</td>\n",
       "      <td>39.75382</td>\n",
       "      <td>-105.01009</td>\n",
       "      <td>South</td>\n",
       "      <td>7</td>\n",
       "      <td>2010</td>\n",
       "      <td>07/29/2010 12:00:00 AM</td>\n",
       "      <td>...</td>\n",
       "      <td>55</td>\n",
       "      <td>85</td>\n",
       "      <td>77</td>\n",
       "      <td>57</td>\n",
       "      <td>50</td>\n",
       "      <td>35</td>\n",
       "      <td>17</td>\n",
       "      <td>32</td>\n",
       "      <td>14</td>\n",
       "      <td>(39.75382, -105.01009)</td>\n",
       "    </tr>\n",
       "    <tr>\n",
       "      <th>2</th>\n",
       "      <td>B00001</td>\n",
       "      <td>BIKE &amp; PEDESTRIAN</td>\n",
       "      <td>Denver</td>\n",
       "      <td>Platte River Trail south of REI\\n</td>\n",
       "      <td>39.75382</td>\n",
       "      <td>-105.01009</td>\n",
       "      <td>North</td>\n",
       "      <td>7</td>\n",
       "      <td>2010</td>\n",
       "      <td>07/30/2010 12:00:00 AM</td>\n",
       "      <td>...</td>\n",
       "      <td>46</td>\n",
       "      <td>50</td>\n",
       "      <td>20</td>\n",
       "      <td>46</td>\n",
       "      <td>46</td>\n",
       "      <td>16</td>\n",
       "      <td>12</td>\n",
       "      <td>8</td>\n",
       "      <td>3</td>\n",
       "      <td>(39.75382, -105.01009)</td>\n",
       "    </tr>\n",
       "    <tr>\n",
       "      <th>3</th>\n",
       "      <td>B00001</td>\n",
       "      <td>BIKE &amp; PEDESTRIAN</td>\n",
       "      <td>Denver</td>\n",
       "      <td>Platte River Trail south of REI\\n</td>\n",
       "      <td>39.75382</td>\n",
       "      <td>-105.01009</td>\n",
       "      <td>South</td>\n",
       "      <td>7</td>\n",
       "      <td>2010</td>\n",
       "      <td>07/30/2010 12:00:00 AM</td>\n",
       "      <td>...</td>\n",
       "      <td>67</td>\n",
       "      <td>113</td>\n",
       "      <td>79</td>\n",
       "      <td>53</td>\n",
       "      <td>42</td>\n",
       "      <td>25</td>\n",
       "      <td>10</td>\n",
       "      <td>17</td>\n",
       "      <td>7</td>\n",
       "      <td>(39.75382, -105.01009)</td>\n",
       "    </tr>\n",
       "    <tr>\n",
       "      <th>4</th>\n",
       "      <td>B00001</td>\n",
       "      <td>BIKE &amp; PEDESTRIAN</td>\n",
       "      <td>Denver</td>\n",
       "      <td>Platte River Trail south of REI\\n</td>\n",
       "      <td>39.75382</td>\n",
       "      <td>-105.01009</td>\n",
       "      <td>North</td>\n",
       "      <td>7</td>\n",
       "      <td>2010</td>\n",
       "      <td>07/31/2010 12:00:00 AM</td>\n",
       "      <td>...</td>\n",
       "      <td>98</td>\n",
       "      <td>59</td>\n",
       "      <td>61</td>\n",
       "      <td>57</td>\n",
       "      <td>33</td>\n",
       "      <td>44</td>\n",
       "      <td>22</td>\n",
       "      <td>11</td>\n",
       "      <td>4</td>\n",
       "      <td>(39.75382, -105.01009)</td>\n",
       "    </tr>\n",
       "  </tbody>\n",
       "</table>\n",
       "<p>5 rows × 36 columns</p>\n",
       "</div>"
      ],
      "text/plain": [
       "  stationId      dataCollected  county                           location  \\\n",
       "0    B00001  BIKE & PEDESTRIAN  Denver  Platte River Trail south of REI\\n   \n",
       "1    B00001  BIKE & PEDESTRIAN  Denver  Platte River Trail south of REI\\n   \n",
       "2    B00001  BIKE & PEDESTRIAN  Denver  Platte River Trail south of REI\\n   \n",
       "3    B00001  BIKE & PEDESTRIAN  Denver  Platte River Trail south of REI\\n   \n",
       "4    B00001  BIKE & PEDESTRIAN  Denver  Platte River Trail south of REI\\n   \n",
       "\n",
       "        lat       long direction  month  year                dataDate  ...  \\\n",
       "0  39.75382 -105.01009     North      7  2010  07/29/2010 12:00:00 AM  ...   \n",
       "1  39.75382 -105.01009     South      7  2010  07/29/2010 12:00:00 AM  ...   \n",
       "2  39.75382 -105.01009     North      7  2010  07/30/2010 12:00:00 AM  ...   \n",
       "3  39.75382 -105.01009     South      7  2010  07/30/2010 12:00:00 AM  ...   \n",
       "4  39.75382 -105.01009     North      7  2010  07/31/2010 12:00:00 AM  ...   \n",
       "\n",
       "   hr15  hr16  hr17  hr18  hr19  hr20  hr21  hr22  hr23  \\\n",
       "0    38    51    28    53    60    43    20    17     2   \n",
       "1    55    85    77    57    50    35    17    32    14   \n",
       "2    46    50    20    46    46    16    12     8     3   \n",
       "3    67   113    79    53    42    25    10    17     7   \n",
       "4    98    59    61    57    33    44    22    11     4   \n",
       "\n",
       "               Location 1  \n",
       "0  (39.75382, -105.01009)  \n",
       "1  (39.75382, -105.01009)  \n",
       "2  (39.75382, -105.01009)  \n",
       "3  (39.75382, -105.01009)  \n",
       "4  (39.75382, -105.01009)  \n",
       "\n",
       "[5 rows x 36 columns]"
      ]
     },
     "execution_count": 5,
     "metadata": {},
     "output_type": "execute_result"
    }
   ],
   "source": [
    "data=pd.read_csv(filename)\n",
    "data.head()"
   ]
  },
  {
   "cell_type": "markdown",
   "metadata": {},
   "source": [
    "## Prepare regressors"
   ]
  },
  {
   "cell_type": "markdown",
   "metadata": {},
   "source": [
    "We have 126 distinct locations ,we will treat them as a categorical variable "
   ]
  },
  {
   "cell_type": "code",
   "execution_count": 11,
   "metadata": {
    "ExecuteTime": {
     "end_time": "2019-11-01T10:44:34.393483Z",
     "start_time": "2019-11-01T10:44:34.387015Z"
    }
   },
   "outputs": [
    {
     "data": {
      "text/plain": [
       "126"
      ]
     },
     "execution_count": 11,
     "metadata": {},
     "output_type": "execute_result"
    }
   ],
   "source": [
    "len(data[\"stationId\"].unique())"
   ]
  },
  {
   "cell_type": "markdown",
   "metadata": {},
   "source": [
    "We will have a variable for each month of the year"
   ]
  },
  {
   "cell_type": "code",
   "execution_count": 12,
   "metadata": {
    "ExecuteTime": {
     "end_time": "2019-11-01T10:44:34.402606Z",
     "start_time": "2019-11-01T10:44:34.395820Z"
    }
   },
   "outputs": [
    {
     "data": {
      "text/plain": [
       "array([ 7,  8, 12,  1,  2,  3,  6,  4,  5,  9, 10, 11])"
      ]
     },
     "execution_count": 12,
     "metadata": {},
     "output_type": "execute_result"
    }
   ],
   "source": [
    "data[\"month\"].unique()"
   ]
  },
  {
   "cell_type": "markdown",
   "metadata": {},
   "source": [
    "We will have a variable per year to see if there are any trends"
   ]
  },
  {
   "cell_type": "code",
   "execution_count": 13,
   "metadata": {
    "ExecuteTime": {
     "end_time": "2019-11-01T10:44:34.408780Z",
     "start_time": "2019-11-01T10:44:34.404461Z"
    }
   },
   "outputs": [
    {
     "data": {
      "text/plain": [
       "array([2010, 2011, 2012, 2013, 2014, 2009])"
      ]
     },
     "execution_count": 13,
     "metadata": {},
     "output_type": "execute_result"
    }
   ],
   "source": [
    "data[\"year\"].unique()"
   ]
  },
  {
   "cell_type": "markdown",
   "metadata": {},
   "source": [
    "We will treach the counts per each our as a separate observation, and use the hour as another categorical regressor. \n",
    "\n",
    "We will use [pandas.melt](https://pandas.pydata.org/pandas-docs/stable/reference/api/pandas.melt.html) function to flatten the hour columns."
   ]
  },
  {
   "cell_type": "code",
   "execution_count": 18,
   "metadata": {
    "ExecuteTime": {
     "end_time": "2019-11-01T10:44:34.616579Z",
     "start_time": "2019-11-01T10:44:34.410301Z"
    }
   },
   "outputs": [
    {
     "data": {
      "text/plain": [
       "(1016400, 6)"
      ]
     },
     "execution_count": 18,
     "metadata": {},
     "output_type": "execute_result"
    }
   ],
   "source": [
    "collected=pd.melt(data,id_vars=[\"stationId\",\"month\",\"year\",\"dayOfWeek\"]\n",
    "        ,value_vars=['hr00', 'hr01',\n",
    "       'hr02', 'hr03', 'hr04', 'hr05', 'hr06', 'hr07', 'hr08', 'hr09', 'hr10',\n",
    "       'hr11', 'hr12', 'hr13', 'hr14', 'hr15', 'hr16', 'hr17', 'hr18', 'hr19',\n",
    "       'hr20', 'hr21', 'hr22', 'hr23'])\n",
    "collected.shape"
   ]
  },
  {
   "cell_type": "code",
   "execution_count": 20,
   "metadata": {
    "ExecuteTime": {
     "end_time": "2019-11-01T10:44:34.629480Z",
     "start_time": "2019-11-01T10:44:34.618591Z"
    }
   },
   "outputs": [
    {
     "data": {
      "text/html": [
       "<div>\n",
       "<style scoped>\n",
       "    .dataframe tbody tr th:only-of-type {\n",
       "        vertical-align: middle;\n",
       "    }\n",
       "\n",
       "    .dataframe tbody tr th {\n",
       "        vertical-align: top;\n",
       "    }\n",
       "\n",
       "    .dataframe thead th {\n",
       "        text-align: right;\n",
       "    }\n",
       "</style>\n",
       "<table border=\"1\" class=\"dataframe\">\n",
       "  <thead>\n",
       "    <tr style=\"text-align: right;\">\n",
       "      <th></th>\n",
       "      <th>stationId</th>\n",
       "      <th>month</th>\n",
       "      <th>year</th>\n",
       "      <th>dayOfWeek</th>\n",
       "      <th>variable</th>\n",
       "      <th>value</th>\n",
       "    </tr>\n",
       "  </thead>\n",
       "  <tbody>\n",
       "    <tr>\n",
       "      <th>0</th>\n",
       "      <td>B00001</td>\n",
       "      <td>7</td>\n",
       "      <td>2010</td>\n",
       "      <td>5</td>\n",
       "      <td>hr00</td>\n",
       "      <td>26</td>\n",
       "    </tr>\n",
       "    <tr>\n",
       "      <th>1</th>\n",
       "      <td>B00001</td>\n",
       "      <td>7</td>\n",
       "      <td>2010</td>\n",
       "      <td>5</td>\n",
       "      <td>hr00</td>\n",
       "      <td>9</td>\n",
       "    </tr>\n",
       "    <tr>\n",
       "      <th>2</th>\n",
       "      <td>B00001</td>\n",
       "      <td>7</td>\n",
       "      <td>2010</td>\n",
       "      <td>6</td>\n",
       "      <td>hr00</td>\n",
       "      <td>2</td>\n",
       "    </tr>\n",
       "    <tr>\n",
       "      <th>3</th>\n",
       "      <td>B00001</td>\n",
       "      <td>7</td>\n",
       "      <td>2010</td>\n",
       "      <td>6</td>\n",
       "      <td>hr00</td>\n",
       "      <td>6</td>\n",
       "    </tr>\n",
       "    <tr>\n",
       "      <th>4</th>\n",
       "      <td>B00001</td>\n",
       "      <td>7</td>\n",
       "      <td>2010</td>\n",
       "      <td>7</td>\n",
       "      <td>hr00</td>\n",
       "      <td>3</td>\n",
       "    </tr>\n",
       "  </tbody>\n",
       "</table>\n",
       "</div>"
      ],
      "text/plain": [
       "  stationId  month  year  dayOfWeek variable  value\n",
       "0    B00001      7  2010          5     hr00     26\n",
       "1    B00001      7  2010          5     hr00      9\n",
       "2    B00001      7  2010          6     hr00      2\n",
       "3    B00001      7  2010          6     hr00      6\n",
       "4    B00001      7  2010          7     hr00      3"
      ]
     },
     "execution_count": 20,
     "metadata": {},
     "output_type": "execute_result"
    }
   ],
   "source": [
    "collected.head(5)"
   ]
  },
  {
   "cell_type": "markdown",
   "metadata": {},
   "source": [
    "### One hot encodings"
   ]
  },
  {
   "cell_type": "code",
   "execution_count": 21,
   "metadata": {
    "ExecuteTime": {
     "end_time": "2019-11-01T10:44:34.638302Z",
     "start_time": "2019-11-01T10:44:34.631722Z"
    }
   },
   "outputs": [
    {
     "data": {
      "text/plain": [
       "Index(['stationId', 'month', 'year', 'dayOfWeek', 'variable', 'value'], dtype='object')"
      ]
     },
     "execution_count": 21,
     "metadata": {},
     "output_type": "execute_result"
    }
   ],
   "source": [
    "collected.columns"
   ]
  },
  {
   "cell_type": "code",
   "execution_count": 22,
   "metadata": {
    "ExecuteTime": {
     "end_time": "2019-11-01T10:44:34.784753Z",
     "start_time": "2019-11-01T10:44:34.641800Z"
    }
   },
   "outputs": [],
   "source": [
    "stationIds=pd.get_dummies(collected[\"stationId\"])"
   ]
  },
  {
   "cell_type": "code",
   "execution_count": 23,
   "metadata": {
    "ExecuteTime": {
     "end_time": "2019-11-01T10:44:34.840130Z",
     "start_time": "2019-11-01T10:44:34.786146Z"
    }
   },
   "outputs": [],
   "source": [
    "hours=pd.get_dummies(collected[\"variable\"])"
   ]
  },
  {
   "cell_type": "code",
   "execution_count": 24,
   "metadata": {
    "ExecuteTime": {
     "end_time": "2019-11-01T10:44:34.878809Z",
     "start_time": "2019-11-01T10:44:34.842008Z"
    }
   },
   "outputs": [],
   "source": [
    "months=pd.get_dummies(collected[\"month\"],prefix=\"month\")"
   ]
  },
  {
   "cell_type": "code",
   "execution_count": 25,
   "metadata": {
    "ExecuteTime": {
     "end_time": "2019-11-01T10:44:34.914568Z",
     "start_time": "2019-11-01T10:44:34.881622Z"
    }
   },
   "outputs": [],
   "source": [
    "years=pd.get_dummies(collected[\"year\"],prefix=\"year\")"
   ]
  },
  {
   "cell_type": "code",
   "execution_count": 26,
   "metadata": {
    "ExecuteTime": {
     "end_time": "2019-11-01T10:44:34.953558Z",
     "start_time": "2019-11-01T10:44:34.916470Z"
    }
   },
   "outputs": [],
   "source": [
    "dayOfWeek=pd.get_dummies(collected[\"dayOfWeek\"],prefix=\"dayOfWeek\")\n"
   ]
  },
  {
   "cell_type": "code",
   "execution_count": 27,
   "metadata": {
    "ExecuteTime": {
     "end_time": "2019-11-01T10:44:35.967612Z",
     "start_time": "2019-11-01T10:44:34.955864Z"
    }
   },
   "outputs": [
    {
     "data": {
      "text/html": [
       "<div>\n",
       "<style scoped>\n",
       "    .dataframe tbody tr th:only-of-type {\n",
       "        vertical-align: middle;\n",
       "    }\n",
       "\n",
       "    .dataframe tbody tr th {\n",
       "        vertical-align: top;\n",
       "    }\n",
       "\n",
       "    .dataframe thead th {\n",
       "        text-align: right;\n",
       "    }\n",
       "</style>\n",
       "<table border=\"1\" class=\"dataframe\">\n",
       "  <thead>\n",
       "    <tr style=\"text-align: right;\">\n",
       "      <th></th>\n",
       "      <th>B00001</th>\n",
       "      <th>B00002</th>\n",
       "      <th>B00003</th>\n",
       "      <th>B00004</th>\n",
       "      <th>B00005</th>\n",
       "      <th>B00006</th>\n",
       "      <th>B00007</th>\n",
       "      <th>B00008</th>\n",
       "      <th>B00009</th>\n",
       "      <th>B00011</th>\n",
       "      <th>...</th>\n",
       "      <th>year_2012</th>\n",
       "      <th>year_2013</th>\n",
       "      <th>year_2014</th>\n",
       "      <th>dayOfWeek_1</th>\n",
       "      <th>dayOfWeek_2</th>\n",
       "      <th>dayOfWeek_3</th>\n",
       "      <th>dayOfWeek_4</th>\n",
       "      <th>dayOfWeek_5</th>\n",
       "      <th>dayOfWeek_6</th>\n",
       "      <th>dayOfWeek_7</th>\n",
       "    </tr>\n",
       "  </thead>\n",
       "  <tbody>\n",
       "    <tr>\n",
       "      <th>0</th>\n",
       "      <td>1</td>\n",
       "      <td>0</td>\n",
       "      <td>0</td>\n",
       "      <td>0</td>\n",
       "      <td>0</td>\n",
       "      <td>0</td>\n",
       "      <td>0</td>\n",
       "      <td>0</td>\n",
       "      <td>0</td>\n",
       "      <td>0</td>\n",
       "      <td>...</td>\n",
       "      <td>0</td>\n",
       "      <td>0</td>\n",
       "      <td>0</td>\n",
       "      <td>0</td>\n",
       "      <td>0</td>\n",
       "      <td>0</td>\n",
       "      <td>0</td>\n",
       "      <td>1</td>\n",
       "      <td>0</td>\n",
       "      <td>0</td>\n",
       "    </tr>\n",
       "    <tr>\n",
       "      <th>1</th>\n",
       "      <td>1</td>\n",
       "      <td>0</td>\n",
       "      <td>0</td>\n",
       "      <td>0</td>\n",
       "      <td>0</td>\n",
       "      <td>0</td>\n",
       "      <td>0</td>\n",
       "      <td>0</td>\n",
       "      <td>0</td>\n",
       "      <td>0</td>\n",
       "      <td>...</td>\n",
       "      <td>0</td>\n",
       "      <td>0</td>\n",
       "      <td>0</td>\n",
       "      <td>0</td>\n",
       "      <td>0</td>\n",
       "      <td>0</td>\n",
       "      <td>0</td>\n",
       "      <td>1</td>\n",
       "      <td>0</td>\n",
       "      <td>0</td>\n",
       "    </tr>\n",
       "    <tr>\n",
       "      <th>2</th>\n",
       "      <td>1</td>\n",
       "      <td>0</td>\n",
       "      <td>0</td>\n",
       "      <td>0</td>\n",
       "      <td>0</td>\n",
       "      <td>0</td>\n",
       "      <td>0</td>\n",
       "      <td>0</td>\n",
       "      <td>0</td>\n",
       "      <td>0</td>\n",
       "      <td>...</td>\n",
       "      <td>0</td>\n",
       "      <td>0</td>\n",
       "      <td>0</td>\n",
       "      <td>0</td>\n",
       "      <td>0</td>\n",
       "      <td>0</td>\n",
       "      <td>0</td>\n",
       "      <td>0</td>\n",
       "      <td>1</td>\n",
       "      <td>0</td>\n",
       "    </tr>\n",
       "    <tr>\n",
       "      <th>3</th>\n",
       "      <td>1</td>\n",
       "      <td>0</td>\n",
       "      <td>0</td>\n",
       "      <td>0</td>\n",
       "      <td>0</td>\n",
       "      <td>0</td>\n",
       "      <td>0</td>\n",
       "      <td>0</td>\n",
       "      <td>0</td>\n",
       "      <td>0</td>\n",
       "      <td>...</td>\n",
       "      <td>0</td>\n",
       "      <td>0</td>\n",
       "      <td>0</td>\n",
       "      <td>0</td>\n",
       "      <td>0</td>\n",
       "      <td>0</td>\n",
       "      <td>0</td>\n",
       "      <td>0</td>\n",
       "      <td>1</td>\n",
       "      <td>0</td>\n",
       "    </tr>\n",
       "    <tr>\n",
       "      <th>4</th>\n",
       "      <td>1</td>\n",
       "      <td>0</td>\n",
       "      <td>0</td>\n",
       "      <td>0</td>\n",
       "      <td>0</td>\n",
       "      <td>0</td>\n",
       "      <td>0</td>\n",
       "      <td>0</td>\n",
       "      <td>0</td>\n",
       "      <td>0</td>\n",
       "      <td>...</td>\n",
       "      <td>0</td>\n",
       "      <td>0</td>\n",
       "      <td>0</td>\n",
       "      <td>0</td>\n",
       "      <td>0</td>\n",
       "      <td>0</td>\n",
       "      <td>0</td>\n",
       "      <td>0</td>\n",
       "      <td>0</td>\n",
       "      <td>1</td>\n",
       "    </tr>\n",
       "  </tbody>\n",
       "</table>\n",
       "<p>5 rows × 175 columns</p>\n",
       "</div>"
      ],
      "text/plain": [
       "   B00001  B00002  B00003  B00004  B00005  B00006  B00007  B00008  B00009  \\\n",
       "0       1       0       0       0       0       0       0       0       0   \n",
       "1       1       0       0       0       0       0       0       0       0   \n",
       "2       1       0       0       0       0       0       0       0       0   \n",
       "3       1       0       0       0       0       0       0       0       0   \n",
       "4       1       0       0       0       0       0       0       0       0   \n",
       "\n",
       "   B00011  ...  year_2012  year_2013  year_2014  dayOfWeek_1  dayOfWeek_2  \\\n",
       "0       0  ...          0          0          0            0            0   \n",
       "1       0  ...          0          0          0            0            0   \n",
       "2       0  ...          0          0          0            0            0   \n",
       "3       0  ...          0          0          0            0            0   \n",
       "4       0  ...          0          0          0            0            0   \n",
       "\n",
       "   dayOfWeek_3  dayOfWeek_4  dayOfWeek_5  dayOfWeek_6  dayOfWeek_7  \n",
       "0            0            0            1            0            0  \n",
       "1            0            0            1            0            0  \n",
       "2            0            0            0            1            0  \n",
       "3            0            0            0            1            0  \n",
       "4            0            0            0            0            1  \n",
       "\n",
       "[5 rows x 175 columns]"
      ]
     },
     "execution_count": 27,
     "metadata": {},
     "output_type": "execute_result"
    }
   ],
   "source": [
    "# permet de concatenter des dataframes\n",
    "\n",
    "reg_data=pd.concat([stationIds,hours,months,years,dayOfWeek],axis=1)\n",
    "reg_data.head()\n"
   ]
  },
  {
   "cell_type": "code",
   "execution_count": 28,
   "metadata": {
    "ExecuteTime": {
     "end_time": "2019-11-01T10:44:35.983825Z",
     "start_time": "2019-11-01T10:44:35.968887Z"
    }
   },
   "outputs": [
    {
     "data": {
      "text/plain": [
       "(1016400, 175)"
      ]
     },
     "execution_count": 28,
     "metadata": {},
     "output_type": "execute_result"
    }
   ],
   "source": [
    "reg_data.shape"
   ]
  },
  {
   "cell_type": "markdown",
   "metadata": {},
   "source": [
    "We have 175 regressors and over a million observations"
   ]
  },
  {
   "cell_type": "code",
   "execution_count": 29,
   "metadata": {
    "ExecuteTime": {
     "end_time": "2019-11-01T10:44:36.129285Z",
     "start_time": "2019-11-01T10:44:35.986483Z"
    }
   },
   "outputs": [
    {
     "data": {
      "text/plain": [
       "((1016400, 175), (1016400,))"
      ]
     },
     "execution_count": 29,
     "metadata": {},
     "output_type": "execute_result"
    }
   ],
   "source": [
    "# permet de convertir un dataframe en numpy array \n",
    "\n",
    "X=reg_data.values\n",
    "Y=collected[\"value\"].values\n",
    "X.shape,Y.shape"
   ]
  },
  {
   "cell_type": "markdown",
   "metadata": {},
   "source": [
    "### Train/Test split"
   ]
  },
  {
   "cell_type": "code",
   "execution_count": 30,
   "metadata": {
    "ExecuteTime": {
     "end_time": "2019-11-01T10:44:36.740529Z",
     "start_time": "2019-11-01T10:44:36.130861Z"
    }
   },
   "outputs": [],
   "source": [
    "X_train, X_test, Y_train, Y_test = train_test_split(X, Y, test_size=0.2)"
   ]
  },
  {
   "cell_type": "markdown",
   "metadata": {},
   "source": [
    "### Fit Regression Model"
   ]
  },
  {
   "cell_type": "code",
   "execution_count": 31,
   "metadata": {
    "ExecuteTime": {
     "end_time": "2019-11-01T10:44:36.745938Z",
     "start_time": "2019-11-01T10:44:36.743116Z"
    },
    "scrolled": true
   },
   "outputs": [],
   "source": [
    "model=PoissonRegression()"
   ]
  },
  {
   "cell_type": "code",
   "execution_count": 32,
   "metadata": {
    "ExecuteTime": {
     "end_time": "2019-11-01T10:45:39.926607Z",
     "start_time": "2019-11-01T10:44:36.748406Z"
    }
   },
   "outputs": [
    {
     "name": "stdout",
     "output_type": "stream",
     "text": [
      "(813120, 1) (813120, 175)\n",
      "(813120, 1) (813120, 175)\n"
     ]
    },
    {
     "data": {
      "text/plain": [
       "<E4525_ML.poisson_regression.PoissonRegression at 0x1055fae80>"
      ]
     },
     "execution_count": 32,
     "metadata": {},
     "output_type": "execute_result"
    }
   ],
   "source": [
    "model.fit(X_train,Y_train)"
   ]
  },
  {
   "cell_type": "code",
   "execution_count": 33,
   "metadata": {
    "ExecuteTime": {
     "end_time": "2019-11-01T10:45:40.540028Z",
     "start_time": "2019-11-01T10:45:39.927996Z"
    }
   },
   "outputs": [
    {
     "name": "stdout",
     "output_type": "stream",
     "text": [
      "(813120, 1) (813120, 175)\n",
      "(813120, 1) (813120, 175)\n"
     ]
    },
    {
     "data": {
      "text/plain": [
       "(813120, 1)"
      ]
     },
     "execution_count": 33,
     "metadata": {},
     "output_type": "execute_result"
    }
   ],
   "source": [
    "Y_pred=model.predict(X_train)\n",
    "Y_pred.shape"
   ]
  },
  {
   "cell_type": "code",
   "execution_count": 34,
   "metadata": {
    "ExecuteTime": {
     "end_time": "2019-11-01T10:45:40.551786Z",
     "start_time": "2019-11-01T10:45:40.541869Z"
    }
   },
   "outputs": [
    {
     "data": {
      "text/plain": [
       "11.968890175517124"
      ]
     },
     "execution_count": 34,
     "metadata": {},
     "output_type": "execute_result"
    }
   ],
   "source": [
    "err=(Y_pred-Y_train[:,np.newaxis])**2/Y_pred\n",
    "err.mean()"
   ]
  },
  {
   "cell_type": "markdown",
   "metadata": {},
   "source": [
    "model is **overdispersed** even on training set  mean err*2 should be close to 1."
   ]
  },
  {
   "cell_type": "code",
   "execution_count": 35,
   "metadata": {
    "ExecuteTime": {
     "end_time": "2019-11-01T10:45:40.729835Z",
     "start_time": "2019-11-01T10:45:40.554357Z"
    }
   },
   "outputs": [
    {
     "name": "stdout",
     "output_type": "stream",
     "text": [
      "(203280, 1) (203280, 175)\n",
      "(203280, 1) (203280, 175)\n"
     ]
    }
   ],
   "source": [
    "Y_pred=model.predict(X_test)"
   ]
  },
  {
   "cell_type": "code",
   "execution_count": 36,
   "metadata": {
    "ExecuteTime": {
     "end_time": "2019-11-01T10:45:40.739728Z",
     "start_time": "2019-11-01T10:45:40.731820Z"
    }
   },
   "outputs": [],
   "source": [
    "err=(Y_pred-Y_test[:,np.newaxis])**2/Y_pred"
   ]
  },
  {
   "cell_type": "code",
   "execution_count": 37,
   "metadata": {
    "ExecuteTime": {
     "end_time": "2019-11-01T10:45:40.745268Z",
     "start_time": "2019-11-01T10:45:40.741277Z"
    }
   },
   "outputs": [
    {
     "data": {
      "text/plain": [
       "12.026058284737896"
      ]
     },
     "execution_count": 37,
     "metadata": {},
     "output_type": "execute_result"
    }
   ],
   "source": [
    "err.mean()"
   ]
  },
  {
   "cell_type": "markdown",
   "metadata": {},
   "source": [
    "Test set does a bit worse, but not by much."
   ]
  },
  {
   "cell_type": "markdown",
   "metadata": {},
   "source": [
    "## Inspect Resutls"
   ]
  },
  {
   "cell_type": "code",
   "execution_count": null,
   "metadata": {
    "ExecuteTime": {
     "end_time": "2019-11-01T10:45:40.782187Z",
     "start_time": "2019-11-01T10:45:40.747218Z"
    }
   },
   "outputs": [],
   "source": [
    "theta=model.theta[0]\n",
    "results={}\n",
    "results[\"Intercept\"]=theta[0]\n",
    "for idx,column in enumerate(reg_data.columns):\n",
    "    results[column]=theta[idx+1]\n",
    "    print(column,results[column])"
   ]
  },
  {
   "cell_type": "markdown",
   "metadata": {},
   "source": [
    "The conclusions are sort of clear:\n",
    "1. people bike during the day, but not at night\n",
    "2. There are more bikers in the summer\n",
    "3. More people bike on weekends.\n"
   ]
  },
  {
   "cell_type": "code",
   "execution_count": null,
   "metadata": {
    "ExecuteTime": {
     "end_time": "2019-11-01T10:45:40.959154Z",
     "start_time": "2019-11-01T10:45:40.783524Z"
    }
   },
   "outputs": [],
   "source": [
    "h=np.arange(24)\n",
    "hour_theta=np.empty(len(h))\n",
    "for hour in  h:\n",
    "    hour_theta[hour]=results[f'hr{hour:02}']\n",
    "plt.plot(h,np.exp(hour_theta))\n",
    "plt.title(\"Biker propersity per Hour of Day\")\n",
    "plt.xlabel(\"Hour of Day\")\n",
    "plt.ylabel(\"Propensity\")"
   ]
  },
  {
   "cell_type": "code",
   "execution_count": null,
   "metadata": {
    "ExecuteTime": {
     "end_time": "2019-11-01T10:45:41.104705Z",
     "start_time": "2019-11-01T10:45:40.960218Z"
    }
   },
   "outputs": [],
   "source": [
    "m=np.arange(1,13)\n",
    "month_theta=np.empty(len(m))\n",
    "month_label=np.empty(len(m),str)\n",
    "for month in  m:\n",
    "    month_label[month-1]=calendar.month_name[month]\n",
    "    month_theta[month-1]=results[f'month_{month}']\n",
    "plt.plot(m,np.exp(month_theta-month_theta.min()))\n",
    "t=plt.xticks(m,month_label)\n",
    "plt.title(\"Biker propensity per month\")\n",
    "plt.xlabel(\"Month\")\n",
    "plt.ylabel(\"Propensity\")"
   ]
  },
  {
   "cell_type": "code",
   "execution_count": null,
   "metadata": {},
   "outputs": [],
   "source": []
  },
  {
   "cell_type": "code",
   "execution_count": null,
   "metadata": {
    "ExecuteTime": {
     "end_time": "2019-11-01T10:45:41.236544Z",
     "start_time": "2019-11-01T10:45:41.105971Z"
    }
   },
   "outputs": [],
   "source": [
    "d=np.arange(1,8)\n",
    "day_label=np.array([\"Sun\",\"Mon\",\"Tue\",\"Wed\",\"Thu\",\"Fri\",\"Sat\"])\n",
    "day_theta=np.empty(len(d))\n",
    "for day in  d:\n",
    "    day_theta[day-1]=results[f'dayOfWeek_{day}']\n",
    "plt.plot(d,np.exp(day_theta))\n",
    "t=plt.xticks(d,day_label)\n",
    "plt.title(\"Biker Propensity per day of week\")\n",
    "plt.xlabel(\"Day of week\")\n",
    "plt.ylabel(\"Propensity\")"
   ]
  },
  {
   "cell_type": "code",
   "execution_count": null,
   "metadata": {
    "ExecuteTime": {
     "end_time": "2019-11-01T10:45:41.375008Z",
     "start_time": "2019-11-01T10:45:41.238861Z"
    }
   },
   "outputs": [],
   "source": [
    "\n",
    "years=np.array([2009,2010,2011,2012,2013,2014])\n",
    "year_theta=np.empty(len(years))\n",
    "for idx,year in  enumerate(years):\n",
    "    year_theta[idx]=results[f'year_{year}']\n",
    "plt.plot(years,np.exp(year_theta))\n",
    "#t=plt.xticks(d,day_label)\n",
    "plt.title(\"Biker Propensity per year\")\n",
    "plt.xlabel(\"Day of week\")\n",
    "plt.ylabel(\"Propensity\")"
   ]
  },
  {
   "cell_type": "code",
   "execution_count": null,
   "metadata": {},
   "outputs": [],
   "source": [
    "s='eeee'\n",
    "len(s)//2"
   ]
  },
  {
   "cell_type": "code",
   "execution_count": null,
   "metadata": {},
   "outputs": [],
   "source": []
  },
  {
   "cell_type": "code",
   "execution_count": null,
   "metadata": {},
   "outputs": [],
   "source": []
  }
 ],
 "metadata": {
  "kernelspec": {
   "display_name": "Python 3",
   "language": "python",
   "name": "python3"
  },
  "language_info": {
   "codemirror_mode": {
    "name": "ipython",
    "version": 3
   },
   "file_extension": ".py",
   "mimetype": "text/x-python",
   "name": "python",
   "nbconvert_exporter": "python",
   "pygments_lexer": "ipython3",
   "version": "3.7.3"
  },
  "toc": {
   "base_numbering": 1,
   "nav_menu": {},
   "number_sections": true,
   "sideBar": true,
   "skip_h1_title": true,
   "title_cell": "Table of Contents",
   "title_sidebar": "Contents",
   "toc_cell": false,
   "toc_position": {},
   "toc_section_display": true,
   "toc_window_display": true
  }
 },
 "nbformat": 4,
 "nbformat_minor": 4
}
