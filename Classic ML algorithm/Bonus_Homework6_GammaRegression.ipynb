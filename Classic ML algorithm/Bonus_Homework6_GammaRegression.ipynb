{
 "cells": [
  {
   "cell_type": "markdown",
   "metadata": {},
   "source": [
    "# Gamma Regression"
   ]
  },
  {
   "cell_type": "markdown",
   "metadata": {},
   "source": [
    "### Imports"
   ]
  },
  {
   "cell_type": "code",
   "execution_count": 1,
   "metadata": {
    "ExecuteTime": {
     "end_time": "2018-10-31T16:02:39.563048Z",
     "start_time": "2018-10-31T16:02:32.707048Z"
    }
   },
   "outputs": [],
   "source": [
    "import numpy as np\n",
    "import numpy.random as random\n",
    "import scipy.optimize\n",
    "\n",
    "import matplotlib.pyplot as plt\n",
    "\n",
    "from scipy.special import factorial\n",
    "from sklearn.linear_model import LinearRegression\n",
    "import scipy.stats as stats\n",
    "import scipy.optimize as optimize\n",
    "import scipy.special as special\n",
    "\n",
    "import pandas as pd\n",
    "\n",
    "import sys\n",
    "\n",
    "%matplotlib inline"
   ]
  },
  {
   "cell_type": "code",
   "execution_count": 2,
   "metadata": {
    "ExecuteTime": {
     "end_time": "2018-10-31T16:02:39.567048Z",
     "start_time": "2018-10-31T16:02:39.564048Z"
    }
   },
   "outputs": [],
   "source": [
    "seed=567\n",
    "np.random.seed(seed)"
   ]
  },
  {
   "cell_type": "markdown",
   "metadata": {},
   "source": [
    "## Gamma Regression"
   ]
  },
  {
   "cell_type": "markdown",
   "metadata": {},
   "source": [
    "When $Y\\in\\mathbb{R}^+$, ie $y>0$ is   positive real numbers it is  natural to assume that $Y|_X$ follows a $\\Gamma$   distribution. For simplicity we will assume $\\alpha$ is a fixed **known** parameter. \n",
    "\n",
    "$$\n",
    "    p(y|x) = \\frac{\\beta^\\alpha}{\\Gamma(\\alpha)}s^{\\alpha-1}e^{-\\beta s} = \\frac{s^{\\alpha-1}}{\\Gamma(\\alpha)}e^{ -y\\beta +  \\alpha\\log \\beta }\n",
    "$$  \n",
    "were $\\alpha>0$ and $\\beta>0$\n",
    "\n",
    "And a non-canonical log link\n",
    "\n",
    "$$\n",
    "    \\eta(x) = -e^{-b_0 - W_0 x}\n",
    "$$\n",
    "\n"
   ]
  },
  {
   "cell_type": "markdown",
   "metadata": {},
   "source": [
    "### Generate random sample data"
   ]
  },
  {
   "cell_type": "code",
   "execution_count": 3,
   "metadata": {
    "ExecuteTime": {
     "end_time": "2018-10-31T16:42:15.688948Z",
     "start_time": "2018-10-31T16:42:14.876748Z"
    }
   },
   "outputs": [],
   "source": [
    "alpha=5.0"
   ]
  },
  {
   "cell_type": "markdown",
   "metadata": {},
   "source": [
    "The true parameters used to generate the data are\n",
    "$$\n",
    "    \\theta_0=(b_0,w_0)=(0,1)\n",
    "$$"
   ]
  },
  {
   "cell_type": "code",
   "execution_count": 4,
   "metadata": {
    "ExecuteTime": {
     "end_time": "2018-10-31T16:42:14.392448Z",
     "start_time": "2018-10-31T16:42:14.376848Z"
    }
   },
   "outputs": [
    {
     "data": {
      "text/plain": [
       "(2,)"
      ]
     },
     "execution_count": 4,
     "metadata": {},
     "output_type": "execute_result"
    }
   ],
   "source": [
    "b0=0\n",
    "W0=1\n",
    "\n",
    "\n",
    "theta0=np.array([b0,W0])\n",
    "theta0.shape"
   ]
  },
  {
   "cell_type": "markdown",
   "metadata": {},
   "source": [
    "We generate $N=30$ samples, with $X\\sim \\mathcal{U}(0,4)$."
   ]
  },
  {
   "cell_type": "code",
   "execution_count": 5,
   "metadata": {
    "ExecuteTime": {
     "end_time": "2018-10-31T16:42:15.738248Z",
     "start_time": "2018-10-31T16:42:15.688948Z"
    }
   },
   "outputs": [
    {
     "data": {
      "text/plain": [
       "(30, 1)"
      ]
     },
     "execution_count": 5,
     "metadata": {},
     "output_type": "execute_result"
    }
   ],
   "source": [
    "N=30\n",
    "X=np.random.uniform(0,4,(N,1))\n",
    "X.shape"
   ]
  },
  {
   "cell_type": "code",
   "execution_count": 6,
   "metadata": {
    "ExecuteTime": {
     "end_time": "2018-10-31T16:42:16.290548Z",
     "start_time": "2018-10-31T16:42:16.274948Z"
    }
   },
   "outputs": [
    {
     "data": {
      "text/plain": [
       "(30,)"
      ]
     },
     "execution_count": 6,
     "metadata": {},
     "output_type": "execute_result"
    }
   ],
   "source": [
    "X1=np.c_[np.ones(len(X)),X]\n",
    "\n",
    "b=np.exp(np.dot(X1,theta0))\n",
    "\n",
    "Y=stats.gamma.rvs(a=alpha,scale=b)\n",
    "Y.shape"
   ]
  },
  {
   "cell_type": "code",
   "execution_count": 7,
   "metadata": {},
   "outputs": [
    {
     "data": {
      "text/plain": [
       "Text(0, 0.5, 'Y')"
      ]
     },
     "execution_count": 7,
     "metadata": {},
     "output_type": "execute_result"
    },
    {
     "data": {
      "image/png": "[encoded data removed]",
      "text/plain": [
       "<Figure size 432x288 with 1 Axes>"
      ]
     },
     "metadata": {
      "needs_background": "light"
     },
     "output_type": "display_data"
    }
   ],
   "source": [
    "plt.scatter(X,Y)\n",
    "plt.xlabel('X')\n",
    "plt.ylabel('Y')\n"
   ]
  },
  {
   "cell_type": "markdown",
   "metadata": {},
   "source": [
    "## Fit linear model\n",
    "\n",
    "\n",
    "To demonstrate what goes wrong with a linear least squares model, we fit the data to a linear regression.\n"
   ]
  },
  {
   "cell_type": "code",
   "execution_count": 8,
   "metadata": {
    "ExecuteTime": {
     "end_time": "2018-10-31T16:42:19.167248Z",
     "start_time": "2018-10-31T16:42:19.136048Z"
    }
   },
   "outputs": [
    {
     "data": {
      "text/plain": [
       "LinearRegression(copy_X=True, fit_intercept=True, n_jobs=None, normalize=False)"
      ]
     },
     "execution_count": 8,
     "metadata": {},
     "output_type": "execute_result"
    }
   ],
   "source": [
    "model=LinearRegression()\n",
    "model.fit(X,Y)"
   ]
  },
  {
   "cell_type": "code",
   "execution_count": 9,
   "metadata": {
    "ExecuteTime": {
     "end_time": "2018-10-31T16:42:19.167248Z",
     "start_time": "2018-10-31T16:42:19.136048Z"
    }
   },
   "outputs": [],
   "source": [
    "x_test=np.linspace(0,4,201).reshape(-1,1)\n",
    "Y_pred_linear=model.predict(x_test)"
   ]
  },
  {
   "cell_type": "code",
   "execution_count": 10,
   "metadata": {
    "ExecuteTime": {
     "end_time": "2018-10-31T16:42:19.167248Z",
     "start_time": "2018-10-31T16:42:19.136048Z"
    }
   },
   "outputs": [
    {
     "data": {
      "text/plain": [
       "Text(0, 0.5, 'Y , Y_pred')"
      ]
     },
     "execution_count": 10,
     "metadata": {},
     "output_type": "execute_result"
    },
    {
     "data": {
      "image/png": "[encoded data removed]",
      "text/plain": [
       "<Figure size 432x288 with 1 Axes>"
      ]
     },
     "metadata": {
      "needs_background": "light"
     },
     "output_type": "display_data"
    }
   ],
   "source": [
    "plt.scatter(X,Y)\n",
    "plt.scatter(x_test,Y_pred_linear)\n",
    "plt.xlabel('X , x_test')\n",
    "plt.ylabel('Y , Y_pred')"
   ]
  },
  {
   "cell_type": "markdown",
   "metadata": {},
   "source": [
    "## Gamma Regression\n",
    "\n",
    "We just use the standard `scipy.optimize.minimize` routine to fit a Gamma Regression model to the data."
   ]
  },
  {
   "cell_type": "markdown",
   "metadata": {},
   "source": [
    "### Link Function"
   ]
  },
  {
   "cell_type": "code",
   "execution_count": 11,
   "metadata": {},
   "outputs": [],
   "source": [
    "def y_hat(X,alpha,theta):\n",
    "    b=np.exp(np.dot(X,theta))\n",
    "    return alpha*b"
   ]
  },
  {
   "cell_type": "code",
   "execution_count": 12,
   "metadata": {},
   "outputs": [
    {
     "data": {
      "text/plain": [
       "<matplotlib.legend.Legend at 0x1a2472d0b8>"
      ]
     },
     "execution_count": 12,
     "metadata": {},
     "output_type": "execute_result"
    },
    {
     "data": {
      "image/png": "[encoded data removed]",
      "text/plain": [
       "<Figure size 432x288 with 1 Axes>"
      ]
     },
     "metadata": {
      "needs_background": "light"
     },
     "output_type": "display_data"
    }
   ],
   "source": [
    "Y_hat=y_hat(X1,alpha,theta0)\n",
    "\n",
    "plt.scatter(X,Y,label='True distribution')\n",
    "plt.scatter(x_test,Y_pred_linear,label='Linear regression')\n",
    "plt.scatter(X,Y_hat,label='Gamma regression')\n",
    "plt.legend()\n",
    "\n"
   ]
  },
  {
   "cell_type": "markdown",
   "metadata": {},
   "source": [
    "### Loss and Loss Gradient"
   ]
  },
  {
   "cell_type": "markdown",
   "metadata": {},
   "source": [
    "\n",
    "Max likelihood loss for the Gamma Regression problem with log link\n",
    "\n",
    "$$\n",
    "E^{\\textrm{log}}_{\\textrm{Gam}}(\\theta;X_1,Y,\\alpha)\n",
    "$$\n",
    "\n",
    "where $X_1$ is a $2\\times N$ matrix and $Y$ is a $N$ vector of input data"
   ]
  },
  {
   "cell_type": "code",
   "execution_count": 13,
   "metadata": {},
   "outputs": [],
   "source": [
    "def GammaError(theta,X1,Y,alpha):\n",
    "    Gamma=(alpha*np.dot(X1,theta)+Y*np.exp(-np.dot(X1,theta))).mean()\n",
    "    return Gamma"
   ]
  },
  {
   "cell_type": "markdown",
   "metadata": {},
   "source": [
    "Gradient max likelihood loss for the Gamma Regression problem with log link\n",
    "\n",
    "$$\n",
    "\\frac{\\partial}{\\partial \\theta_d} E^{\\textrm{log}}_{\\textrm{Gam}}(\\theta;X_1,Y,\\alpha)\n",
    "$$\n"
   ]
  },
  {
   "cell_type": "code",
   "execution_count": 14,
   "metadata": {},
   "outputs": [],
   "source": [
    "def GammaErrorGradient(theta,X1,Y,alpha):\n",
    "    gradient_b=(alpha-Y*np.exp(-np.dot(X1,theta))).mean()\n",
    "    gradient_omega=np.dot(X1[:,1],alpha-Y*np.exp(-np.dot(X1,theta)))/len(X1)\n",
    "    return np.array([gradient_b,gradient_omega])"
   ]
  },
  {
   "cell_type": "code",
   "execution_count": null,
   "metadata": {},
   "outputs": [],
   "source": []
  },
  {
   "cell_type": "markdown",
   "metadata": {},
   "source": [
    "Function `scipy.minimize.check_gra` to verify that the gradient function is \n",
    "implemented correctly at the point \n",
    "$$\n",
    "    \\theta_{\\textrm{test}} = (-1,1.5)\n",
    "$$\n"
   ]
  },
  {
   "cell_type": "code",
   "execution_count": 15,
   "metadata": {},
   "outputs": [],
   "source": [
    "theta_test=np.array([-1,1.5])"
   ]
  },
  {
   "cell_type": "code",
   "execution_count": 16,
   "metadata": {},
   "outputs": [
    {
     "data": {
      "text/plain": [
       "2.745349270055516e-07"
      ]
     },
     "execution_count": 16,
     "metadata": {},
     "output_type": "execute_result"
    }
   ],
   "source": [
    "scipy.optimize.check_grad(GammaError,GammaErrorGradient,theta_test,X1,Y,alpha)"
   ]
  },
  {
   "cell_type": "markdown",
   "metadata": {},
   "source": [
    "### Optimization"
   ]
  },
  {
   "cell_type": "code",
   "execution_count": 17,
   "metadata": {},
   "outputs": [],
   "source": [
    "class GammaRegression:\n",
    "    def __init__(self,alpha):\n",
    "        self.alpha=alpha\n",
    "    def fit(self,X,Y):\n",
    "        X1=np.c_[np.ones(len(X)),X]\n",
    "        theta0=np.random.normal(0,1/np.sqrt(2),2)\n",
    "        fit=optimize.minimize(GammaError,theta0,jac=GammaErrorGradient,args=(X1,Y,self.alpha),method=\"bfgs\")\n",
    "        self.theta=fit.x\n",
    "    def predict(self,X):\n",
    "        X1=np.c_[np.ones(len(X)),X]\n",
    "        l=y_hat(X1,self.alpha,self.theta)\n",
    "        return l\n",
    "    "
   ]
  },
  {
   "cell_type": "code",
   "execution_count": 18,
   "metadata": {
    "ExecuteTime": {
     "end_time": "2018-10-31T16:54:51.842248Z",
     "start_time": "2018-10-31T16:54:51.826648Z"
    },
    "scrolled": true
   },
   "outputs": [
    {
     "name": "stdout",
     "output_type": "stream",
     "text": [
      "The estimated theta is [0.00271237 0.98051357]\n"
     ]
    }
   ],
   "source": [
    "gamma_model=GammaRegression(alpha)\n",
    "gamma_model.fit(X,Y)\n",
    "\n",
    "\n",
    "\n",
    "Y_pred_gamma=gamma_model.predict(X)\n",
    "\n",
    "print(f'The estimated theta is {gamma_model.theta}')\n"
   ]
  },
  {
   "cell_type": "markdown",
   "metadata": {},
   "source": [
    "The Gamma model fits the data much better"
   ]
  },
  {
   "cell_type": "code",
   "execution_count": 19,
   "metadata": {},
   "outputs": [
    {
     "data": {
      "text/plain": [
       "<matplotlib.legend.Legend at 0x1a2481ae10>"
      ]
     },
     "execution_count": 19,
     "metadata": {},
     "output_type": "execute_result"
    },
    {
     "data": {
      "image/png": "[encoded data removed]",
      "text/plain": [
       "<Figure size 432x288 with 1 Axes>"
      ]
     },
     "metadata": {
      "needs_background": "light"
     },
     "output_type": "display_data"
    }
   ],
   "source": [
    "plt.scatter(X,Y,label='True distribution')\n",
    "plt.scatter(x_test,Y_pred_linear,label='Linear regression')\n",
    "plt.scatter(X,Y_hat,label='Gamma, True theta parameter')\n",
    "plt.scatter(X,Y_pred_gamma,label='Gamma, Predicted theta parameter')\n",
    "\n",
    "plt.legend()"
   ]
  },
  {
   "cell_type": "markdown",
   "metadata": {},
   "source": [
    "## Dependence on $\\alpha$"
   ]
  },
  {
   "cell_type": "markdown",
   "metadata": {},
   "source": [
    "Keeping $X$ and $Y$ Fixed"
   ]
  },
  {
   "cell_type": "markdown",
   "metadata": {},
   "source": [
    "\n",
    "Dependency of the fitted parameters $\\hat{b}$ and $\\hat{w}$  for fitting"
   ]
  },
  {
   "cell_type": "code",
   "execution_count": 20,
   "metadata": {},
   "outputs": [
    {
     "data": {
      "text/plain": [
       "Text(0.5, 1.0, 'w=f(alpha)')"
      ]
     },
     "execution_count": 20,
     "metadata": {},
     "output_type": "execute_result"
    },
    {
     "data": {
      "image/png": "[encoded data removed]",
      "text/plain": [
       "<Figure size 432x288 with 2 Axes>"
      ]
     },
     "metadata": {
      "needs_background": "light"
     },
     "output_type": "display_data"
    }
   ],
   "source": [
    "alpha=np.linspace(1,100,100)\n",
    "b=[]\n",
    "w=[]\n",
    "for i in alpha:\n",
    "    gamma_model=GammaRegression(i)\n",
    "    gamma_model.fit(X,Y)\n",
    "    theta=gamma_model.theta\n",
    "    b.append(theta[0])\n",
    "    w.append(theta[1])\n",
    "\n",
    "fig,(ax1,ax2)=plt.subplots(1,2)\n",
    "ax1.scatter(alpha,b)\n",
    "ax1.set_title('b=f(alpha)')\n",
    "ax2.scatter(alpha,w)\n",
    "ax2.set_title('w=f(alpha)')\n"
   ]
  },
  {
   "cell_type": "code",
   "execution_count": 21,
   "metadata": {},
   "outputs": [
    {
     "data": {
      "text/plain": [
       "<matplotlib.collections.PathCollection at 0x1a24a30240>"
      ]
     },
     "execution_count": 21,
     "metadata": {},
     "output_type": "execute_result"
    },
    {
     "data": {
      "image/png": "[encoded data removed]",
      "text/plain": [
       "<Figure size 432x288 with 1 Axes>"
      ]
     },
     "metadata": {
      "needs_background": "light"
     },
     "output_type": "display_data"
    }
   ],
   "source": [
    "alpha=np.linspace(1,100,100)\n",
    "dY=[]\n",
    "\n",
    "for i in alpha:\n",
    "    gamma_model=GammaRegression(i)\n",
    "    gamma_model.fit(X,Y)\n",
    "    Y_pred=gamma_model.predict(X)\n",
    "    dY.append(np.average(Y_pred-Y)**2)\n",
    "\n",
    "plt.scatter(alpha,dY)\n",
    "\n",
    "\n",
    "## there is nearly no dependence between the predicted levels of Y and the parameter alpha used for fitting \n",
    "    "
   ]
  }
 ],
 "metadata": {
  "kernelspec": {
   "display_name": "Python 3",
   "language": "python",
   "name": "python3"
  },
  "language_info": {
   "codemirror_mode": {
    "name": "ipython",
    "version": 3
   },
   "file_extension": ".py",
   "mimetype": "text/x-python",
   "name": "python",
   "nbconvert_exporter": "python",
   "pygments_lexer": "ipython3",
   "version": "3.7.3"
  },
  "toc": {
   "base_numbering": 1,
   "nav_menu": {},
   "number_sections": true,
   "sideBar": true,
   "skip_h1_title": true,
   "title_cell": "Table of Contents",
   "title_sidebar": "Contents",
   "toc_cell": false,
   "toc_position": {},
   "toc_section_display": true,
   "toc_window_display": true
  }
 },
 "nbformat": 4,
 "nbformat_minor": 4
}
