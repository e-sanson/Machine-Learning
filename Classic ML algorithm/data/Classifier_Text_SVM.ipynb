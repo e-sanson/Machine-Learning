{
 "cells": [
  {
   "cell_type": "markdown",
   "metadata": {},
   "source": [
    "# SVM Linear Classifiers with Text"
   ]
  },
  {
   "cell_type": "markdown",
   "metadata": {},
   "source": [
    "In this notebook we will apply a Linear SVM to our text classification\n",
    "problem.\n",
    "\n",
    "As the bag of words representation of a document is high dimensional we will use $\\chi^2$ feature selection to select a subspace of a manageable dimension. \n"
   ]
  },
  {
   "cell_type": "markdown",
   "metadata": {},
   "source": [
    "## Preliminaries"
   ]
  },
  {
   "cell_type": "markdown",
   "metadata": {},
   "source": [
    "### Imports"
   ]
  },
  {
   "cell_type": "code",
   "execution_count": 1,
   "metadata": {
    "ExecuteTime": {
     "end_time": "2018-03-30T08:42:08.745961Z",
     "start_time": "2018-03-30T08:42:00.952449Z"
    }
   },
   "outputs": [],
   "source": [
    "import pickle\n",
    "\n",
    "import numpy as np\n",
    "import pandas as pd\n",
    "import matplotlib.pyplot as plt\n",
    "\n",
    "from sklearn.feature_extraction.text import CountVectorizer,TfidfVectorizer\n",
    "\n",
    "from sklearn import metrics\n",
    "from sklearn.feature_selection import SelectKBest, chi2\n",
    "from sklearn.model_selection import train_test_split,KFold\n",
    "from sklearn.preprocessing import LabelEncoder, OneHotEncoder\n",
    "\n",
    "\n",
    "# for a progress bar on slow calculations\n",
    "from ipywidgets import IntProgress\n",
    "from IPython.display import display\n",
    "\n",
    "import sys\n",
    "sys.path.append(\"../..\")\n",
    "from E4525_ML import plots\n",
    "import E4525_ML.text as text\n",
    "from E4525_ML.multiclass_svm import SVMGDClassifier\n",
    "%matplotlib inline\n",
    "plt.rcParams['figure.figsize'] = (8.0, 6.0) # set default size of plots"
   ]
  },
  {
   "cell_type": "code",
   "execution_count": 2,
   "metadata": {
    "ExecuteTime": {
     "end_time": "2018-03-30T08:42:08.761588Z",
     "start_time": "2018-03-30T08:42:08.745961Z"
    }
   },
   "outputs": [],
   "source": [
    "seed=23\n",
    "np.random.seed(seed)"
   ]
  },
  {
   "cell_type": "markdown",
   "metadata": {},
   "source": [
    "### Data"
   ]
  },
  {
   "cell_type": "markdown",
   "metadata": {},
   "source": [
    "#### Data Directories"
   ]
  },
  {
   "cell_type": "code",
   "execution_count": 3,
   "metadata": {
    "ExecuteTime": {
     "end_time": "2018-03-30T08:42:08.786676Z",
     "start_time": "2018-03-30T08:42:08.761588Z"
    }
   },
   "outputs": [],
   "source": [
    "raw_data_dir=r\"../../raw/C50/C50train\"\n",
    "test_dir    =r\"../../raw/C50/C50test\"\n",
    "data_dir=r\"../../data/C50\"\n"
   ]
  },
  {
   "cell_type": "markdown",
   "metadata": {},
   "source": [
    "#### Corpus"
   ]
  },
  {
   "cell_type": "code",
   "execution_count": 4,
   "metadata": {
    "ExecuteTime": {
     "end_time": "2018-03-30T08:42:08.834945Z",
     "start_time": "2018-03-30T08:42:08.786676Z"
    }
   },
   "outputs": [
    {
     "data": {
      "text/html": [
       "<div>\n",
       "<style scoped>\n",
       "    .dataframe tbody tr th:only-of-type {\n",
       "        vertical-align: middle;\n",
       "    }\n",
       "\n",
       "    .dataframe tbody tr th {\n",
       "        vertical-align: top;\n",
       "    }\n",
       "\n",
       "    .dataframe thead th {\n",
       "        text-align: right;\n",
       "    }\n",
       "</style>\n",
       "<table border=\"1\" class=\"dataframe\">\n",
       "  <thead>\n",
       "    <tr style=\"text-align: right;\">\n",
       "      <th></th>\n",
       "      <th>filename</th>\n",
       "      <th>label</th>\n",
       "    </tr>\n",
       "    <tr>\n",
       "      <th>document_id</th>\n",
       "      <th></th>\n",
       "      <th></th>\n",
       "    </tr>\n",
       "  </thead>\n",
       "  <tbody>\n",
       "    <tr>\n",
       "      <th>0</th>\n",
       "      <td>../../raw/C50/C50train/RobinSidel/147604newsML...</td>\n",
       "      <td>RobinSidel</td>\n",
       "    </tr>\n",
       "    <tr>\n",
       "      <th>1</th>\n",
       "      <td>../../raw/C50/C50train/RobinSidel/196812newsML...</td>\n",
       "      <td>RobinSidel</td>\n",
       "    </tr>\n",
       "    <tr>\n",
       "      <th>2</th>\n",
       "      <td>../../raw/C50/C50train/RobinSidel/219316newsML...</td>\n",
       "      <td>RobinSidel</td>\n",
       "    </tr>\n",
       "    <tr>\n",
       "      <th>3</th>\n",
       "      <td>../../raw/C50/C50train/RobinSidel/251225newsML...</td>\n",
       "      <td>RobinSidel</td>\n",
       "    </tr>\n",
       "    <tr>\n",
       "      <th>4</th>\n",
       "      <td>../../raw/C50/C50train/RobinSidel/177958newsML...</td>\n",
       "      <td>RobinSidel</td>\n",
       "    </tr>\n",
       "  </tbody>\n",
       "</table>\n",
       "</div>"
      ],
      "text/plain": [
       "                                                      filename       label\n",
       "document_id                                                               \n",
       "0            ../../raw/C50/C50train/RobinSidel/147604newsML...  RobinSidel\n",
       "1            ../../raw/C50/C50train/RobinSidel/196812newsML...  RobinSidel\n",
       "2            ../../raw/C50/C50train/RobinSidel/219316newsML...  RobinSidel\n",
       "3            ../../raw/C50/C50train/RobinSidel/251225newsML...  RobinSidel\n",
       "4            ../../raw/C50/C50train/RobinSidel/177958newsML...  RobinSidel"
      ]
     },
     "execution_count": 4,
     "metadata": {},
     "output_type": "execute_result"
    }
   ],
   "source": [
    "documents_filename=data_dir+\"/C50_documents.csv\"\n",
    "documents=pd.read_csv(documents_filename,index_col=\"document_id\")\n",
    "documents.head()"
   ]
  },
  {
   "cell_type": "code",
   "execution_count": 5,
   "metadata": {
    "ExecuteTime": {
     "end_time": "2018-03-30T08:42:08.858944Z",
     "start_time": "2018-03-30T08:42:08.834945Z"
    },
    "scrolled": true
   },
   "outputs": [
    {
     "data": {
      "text/html": [
       "<div>\n",
       "<style scoped>\n",
       "    .dataframe tbody tr th:only-of-type {\n",
       "        vertical-align: middle;\n",
       "    }\n",
       "\n",
       "    .dataframe tbody tr th {\n",
       "        vertical-align: top;\n",
       "    }\n",
       "\n",
       "    .dataframe thead th {\n",
       "        text-align: right;\n",
       "    }\n",
       "</style>\n",
       "<table border=\"1\" class=\"dataframe\">\n",
       "  <thead>\n",
       "    <tr style=\"text-align: right;\">\n",
       "      <th></th>\n",
       "      <th>filename</th>\n",
       "      <th>label</th>\n",
       "    </tr>\n",
       "    <tr>\n",
       "      <th>document_id</th>\n",
       "      <th></th>\n",
       "      <th></th>\n",
       "    </tr>\n",
       "  </thead>\n",
       "  <tbody>\n",
       "    <tr>\n",
       "      <th>0</th>\n",
       "      <td>../../raw/C50/C50test/RobinSidel/347781newsML.txt</td>\n",
       "      <td>RobinSidel</td>\n",
       "    </tr>\n",
       "    <tr>\n",
       "      <th>1</th>\n",
       "      <td>../../raw/C50/C50test/RobinSidel/306379newsML.txt</td>\n",
       "      <td>RobinSidel</td>\n",
       "    </tr>\n",
       "    <tr>\n",
       "      <th>2</th>\n",
       "      <td>../../raw/C50/C50test/RobinSidel/324849newsML.txt</td>\n",
       "      <td>RobinSidel</td>\n",
       "    </tr>\n",
       "    <tr>\n",
       "      <th>3</th>\n",
       "      <td>../../raw/C50/C50test/RobinSidel/284041newsML.txt</td>\n",
       "      <td>RobinSidel</td>\n",
       "    </tr>\n",
       "    <tr>\n",
       "      <th>4</th>\n",
       "      <td>../../raw/C50/C50test/RobinSidel/363477newsML.txt</td>\n",
       "      <td>RobinSidel</td>\n",
       "    </tr>\n",
       "  </tbody>\n",
       "</table>\n",
       "</div>"
      ],
      "text/plain": [
       "                                                      filename       label\n",
       "document_id                                                               \n",
       "0            ../../raw/C50/C50test/RobinSidel/347781newsML.txt  RobinSidel\n",
       "1            ../../raw/C50/C50test/RobinSidel/306379newsML.txt  RobinSidel\n",
       "2            ../../raw/C50/C50test/RobinSidel/324849newsML.txt  RobinSidel\n",
       "3            ../../raw/C50/C50test/RobinSidel/284041newsML.txt  RobinSidel\n",
       "4            ../../raw/C50/C50test/RobinSidel/363477newsML.txt  RobinSidel"
      ]
     },
     "execution_count": 5,
     "metadata": {},
     "output_type": "execute_result"
    }
   ],
   "source": [
    "test_documents_filename=data_dir+\"/C50_test_documents.csv\"\n",
    "test_documents=pd.read_csv(test_documents_filename,index_col=\"document_id\")\n",
    "test_documents.head()"
   ]
  },
  {
   "cell_type": "code",
   "execution_count": 6,
   "metadata": {
    "ExecuteTime": {
     "end_time": "2018-03-30T08:42:08.866944Z",
     "start_time": "2018-03-30T08:42:08.858944Z"
    }
   },
   "outputs": [],
   "source": [
    "scramble=True"
   ]
  },
  {
   "cell_type": "code",
   "execution_count": 7,
   "metadata": {
    "ExecuteTime": {
     "end_time": "2018-03-30T08:42:08.890944Z",
     "start_time": "2018-03-30T08:42:08.866944Z"
    }
   },
   "outputs": [
    {
     "name": "stdout",
     "output_type": "stream",
     "text": [
      "all_docs.shape (5000, 2)\n",
      "(2584, 2) (2416, 2)\n"
     ]
    }
   ],
   "source": [
    "if scramble:\n",
    "    all_docs=pd.concat([documents,test_documents])\n",
    "    print(\"all_docs.shape\",all_docs.shape)\n",
    "    msk=np.random.rand(len(all_docs))<0.5\n",
    "    documents=all_docs[msk]\n",
    "    test_documents=all_docs[~msk]\n",
    "    print(documents.shape,test_documents.shape)"
   ]
  },
  {
   "cell_type": "markdown",
   "metadata": {},
   "source": [
    "\n",
    "## Validation Set Creation"
   ]
  },
  {
   "cell_type": "code",
   "execution_count": 8,
   "metadata": {
    "ExecuteTime": {
     "end_time": "2018-03-30T08:42:08.902943Z",
     "start_time": "2018-03-30T08:42:08.890944Z"
    }
   },
   "outputs": [],
   "source": [
    "docs_train,docs_val,Y_train,Y_val=train_test_split(documents[\"filename\"],documents[\"label\"],test_size=0.2)"
   ]
  },
  {
   "cell_type": "markdown",
   "metadata": {},
   "source": [
    "We use `set` features as those perform better for all the other classifiers.\n",
    "\n",
    "We normalize vectors so that $x^T x =1$ for each document by using the `TFidfVectorizer` class with normalization set."
   ]
  },
  {
   "cell_type": "code",
   "execution_count": 9,
   "metadata": {
    "ExecuteTime": {
     "end_time": "2018-03-30T08:42:08.922945Z",
     "start_time": "2018-03-30T08:42:08.902943Z"
    }
   },
   "outputs": [],
   "source": [
    "countVectorizer=TfidfVectorizer(input=\"filename\",\n",
    "                                      \n",
    "                                       norm=\"l2\",\n",
    "                                       tokenizer=text.stem_tokenizer,\n",
    "                                       stop_words=text.stop_words())"
   ]
  },
  {
   "cell_type": "markdown",
   "metadata": {},
   "source": [
    "## Select More important Features"
   ]
  },
  {
   "cell_type": "code",
   "execution_count": 10,
   "metadata": {
    "ExecuteTime": {
     "end_time": "2018-03-30T08:42:08.954943Z",
     "start_time": "2018-03-30T08:42:08.926945Z"
    }
   },
   "outputs": [],
   "source": [
    "F=1000"
   ]
  },
  {
   "cell_type": "code",
   "execution_count": 11,
   "metadata": {
    "ExecuteTime": {
     "end_time": "2018-03-30T08:42:53.490094Z",
     "start_time": "2018-03-30T08:42:08.954943Z"
    }
   },
   "outputs": [
    {
     "name": "stderr",
     "output_type": "stream",
     "text": [
      "//anaconda3/lib/python3.7/site-packages/sklearn/feature_extraction/text.py:300: UserWarning: Your stop_words may be inconsistent with your preprocessing. Tokenizing the stop words generated tokens ['becau'] not in stop_words.\n",
      "  'stop_words.' % sorted(inconsistent))\n"
     ]
    }
   ],
   "source": [
    "X=countVectorizer.fit_transform(docs_train)\n",
    "Y=Y_train"
   ]
  },
  {
   "cell_type": "code",
   "execution_count": 12,
   "metadata": {
    "ExecuteTime": {
     "end_time": "2018-03-30T08:42:53.502003Z",
     "start_time": "2018-03-30T08:42:53.490094Z"
    }
   },
   "outputs": [
    {
     "data": {
      "text/plain": [
       "27771"
      ]
     },
     "execution_count": 12,
     "metadata": {},
     "output_type": "execute_result"
    }
   ],
   "source": [
    "V=X.shape[1]\n",
    "V"
   ]
  },
  {
   "cell_type": "code",
   "execution_count": 13,
   "metadata": {
    "ExecuteTime": {
     "end_time": "2018-03-30T08:42:53.569834Z",
     "start_time": "2018-03-30T08:42:53.502003Z"
    }
   },
   "outputs": [],
   "source": [
    "dummies=pd.get_dummies(Y,prefix=\"\",prefix_sep=\"\",sparse=True)\n",
    "labels=dummies.columns\n",
    "Z=dummies"
   ]
  },
  {
   "cell_type": "code",
   "execution_count": 14,
   "metadata": {
    "ExecuteTime": {
     "end_time": "2018-03-30T08:42:53.585461Z",
     "start_time": "2018-03-30T08:42:53.569834Z"
    }
   },
   "outputs": [],
   "source": [
    "transformer=SelectKBest(chi2,F) # get the best F based on chi2 metric"
   ]
  },
  {
   "cell_type": "code",
   "execution_count": 15,
   "metadata": {
    "ExecuteTime": {
     "end_time": "2018-03-30T08:42:53.729315Z",
     "start_time": "2018-03-30T08:42:53.599509Z"
    }
   },
   "outputs": [],
   "source": [
    "Xt=transformer.fit_transform(X,Z) # Return X with only the selected features"
   ]
  },
  {
   "cell_type": "code",
   "execution_count": 16,
   "metadata": {
    "ExecuteTime": {
     "end_time": "2018-03-30T08:42:53.744119Z",
     "start_time": "2018-03-30T08:42:53.729315Z"
    }
   },
   "outputs": [],
   "source": [
    "feature_idx=transformer.get_support(True)"
   ]
  },
  {
   "cell_type": "code",
   "execution_count": 17,
   "metadata": {
    "ExecuteTime": {
     "end_time": "2018-03-30T08:42:53.802691Z",
     "start_time": "2018-03-30T08:42:53.744119Z"
    }
   },
   "outputs": [],
   "source": [
    "index_2_word=countVectorizer.get_feature_names()"
   ]
  },
  {
   "cell_type": "code",
   "execution_count": 18,
   "metadata": {
    "ExecuteTime": {
     "end_time": "2018-03-30T08:42:53.822690Z",
     "start_time": "2018-03-30T08:42:53.802691Z"
    }
   },
   "outputs": [
    {
     "name": "stdout",
     "output_type": "stream",
     "text": [
      "27584 yen\n",
      "27610 yokich\n",
      "27625 yorkshir\n",
      "27639 yuan\n",
      "27644 yueng\n",
      "27695 zeller\n",
      "27696 zeman\n",
      "27701 zeneca\n",
      "27712 zhao\n",
      "27743 zinc\n"
     ]
    }
   ],
   "source": [
    "for idx in feature_idx[-10:]:\n",
    "    print(idx,index_2_word[idx])"
   ]
  },
  {
   "cell_type": "markdown",
   "metadata": {},
   "source": [
    "## Generic Text Classifier with Feature Selection"
   ]
  },
  {
   "cell_type": "markdown",
   "metadata": {},
   "source": [
    "Selection $F$ features base of a $\\chi^2$ test makes sense for any classifier.\n",
    "\n",
    "For convenience we create a new wrapper classifier that selects $F$ features and calls the underlying\n",
    "classier with them."
   ]
  },
  {
   "cell_type": "code",
   "execution_count": 19,
   "metadata": {
    "ExecuteTime": {
     "end_time": "2018-03-30T08:42:53.846690Z",
     "start_time": "2018-03-30T08:42:53.822690Z"
    }
   },
   "outputs": [],
   "source": [
    "class TextChi2Classifier:\n",
    "    def __init__(self,F,model):\n",
    "        self.model=model\n",
    "        self.transformer=SelectKBest(chi2,F)\n",
    "    def fit(self,X,Y,X_val,Y_val):\n",
    "        dummies=pd.get_dummies(Y,prefix=\"\",prefix_sep=\"\",sparse=True)\n",
    "        Z=dummies\n",
    "        Xt=self.transformer.fit_transform(X,Z)\n",
    "        Xt_val=self.transformer.transform(X_val)\n",
    "        self.model.fit(Xt,Y,Xt_val,Y_val)\n",
    "        return self\n",
    "    def predict(self,X):\n",
    "        Xt=self.transformer.transform(X)\n",
    "        return self.model.predict(Xt)"
   ]
  },
  {
   "cell_type": "markdown",
   "metadata": {},
   "source": [
    " ##  SVM Classifier vs Number of Features"
   ]
  },
  {
   "cell_type": "code",
   "execution_count": 20,
   "metadata": {
    "ExecuteTime": {
     "end_time": "2018-03-30T08:43:34.145252Z",
     "start_time": "2018-03-30T08:42:53.846690Z"
    }
   },
   "outputs": [
    {
     "data": {
      "text/plain": [
       "((2067, 27771), (2067,))"
      ]
     },
     "execution_count": 20,
     "metadata": {},
     "output_type": "execute_result"
    }
   ],
   "source": [
    "X=countVectorizer.fit_transform(docs_train)\n",
    "Y=Y_train\n",
    "X.shape,Y.shape"
   ]
  },
  {
   "cell_type": "code",
   "execution_count": 21,
   "metadata": {
    "ExecuteTime": {
     "end_time": "2018-03-30T08:43:45.761362Z",
     "start_time": "2018-03-30T08:43:34.145252Z"
    }
   },
   "outputs": [
    {
     "data": {
      "text/plain": [
       "((517, 27771), (517,))"
      ]
     },
     "execution_count": 21,
     "metadata": {},
     "output_type": "execute_result"
    }
   ],
   "source": [
    "X_val=countVectorizer.transform(docs_val)\n",
    "X_val.shape,Y_val.shape"
   ]
  },
  {
   "cell_type": "code",
   "execution_count": 22,
   "metadata": {
    "ExecuteTime": {
     "end_time": "2018-03-30T08:43:45.769360Z",
     "start_time": "2018-03-30T08:43:45.761362Z"
    }
   },
   "outputs": [],
   "source": [
    "Fs=[100,200,300,500,1000,2000,3000,5000,10000,20000,V]"
   ]
  },
  {
   "cell_type": "code",
   "execution_count": 23,
   "metadata": {
    "ExecuteTime": {
     "end_time": "2018-03-30T08:43:45.814384Z",
     "start_time": "2018-03-30T08:43:45.769360Z"
    }
   },
   "outputs": [],
   "source": [
    "base_model=SVMGDClassifier(max_iter=100, learning_rate=0.005,tol=1e-8)"
   ]
  },
  {
   "cell_type": "code",
   "execution_count": 24,
   "metadata": {
    "ExecuteTime": {
     "end_time": "2018-03-30T08:48:23.940922Z",
     "start_time": "2018-03-30T08:43:45.816063Z"
    },
    "scrolled": true
   },
   "outputs": [
    {
     "data": {
      "application/vnd.jupyter.widget-view+json": {
       "model_id": "583c43b4f8ab4b3487d5ad3476c3c425",
       "version_major": 2,
       "version_minor": 0
      },
      "text/plain": [
       "IntProgress(value=0, bar_style='info', description='Trials:', max=11)"
      ]
     },
     "metadata": {},
     "output_type": "display_data"
    },
    {
     "name": "stdout",
     "output_type": "stream",
     "text": [
      "F 100\n",
      "2019-11-12 18:54:28|\t0: TRAIN loss 100778.7042,  acc 0.0218 || VAL loss 25251.6087, acc 0.0116\n",
      "2019-11-12 18:54:28|\t10: TRAIN loss 26836.7374,  acc 0.3648 || VAL loss 7263.8818, acc 0.3037\n",
      "2019-11-12 18:54:28|\t20: TRAIN loss 21491.4869,  acc 0.4480 || VAL loss 5705.1761, acc 0.4004\n",
      "2019-11-12 18:54:28|\t30: TRAIN loss 18829.7256,  acc 0.4702 || VAL loss 5177.9989, acc 0.4159\n",
      "2019-11-12 18:54:29|\t40: TRAIN loss 17543.7254,  acc 0.4698 || VAL loss 4947.0264, acc 0.4236\n",
      "2019-11-12 18:54:29|\t50: TRAIN loss 16627.0394,  acc 0.4790 || VAL loss 4998.3743, acc 0.4062\n",
      "2019-11-12 18:54:29|\t60: TRAIN loss 16063.4708,  acc 0.4785 || VAL loss 4683.8166, acc 0.4217\n",
      "2019-11-12 18:54:29|\t70: TRAIN loss 15447.8183,  acc 0.4910 || VAL loss 4612.0885, acc 0.4275\n",
      "2019-11-12 18:54:29|\t80: TRAIN loss 14982.5898,  acc 0.4867 || VAL loss 4414.7719, acc 0.4333\n",
      "2019-11-12 18:54:29|\t90: TRAIN loss 14428.9237,  acc 0.4828 || VAL loss 4421.1253, acc 0.4352\n",
      "2019-11-12 18:54:29|\t99: TRAIN loss 14137.4793,  acc 0.4988 || VAL loss 4201.5870, acc 0.4429\n",
      "F 200\n",
      "2019-11-12 18:54:30|\t0: TRAIN loss 101357.1386,  acc 0.0077 || VAL loss 25430.7972, acc 0.0155\n",
      "2019-11-12 18:54:30|\t10: TRAIN loss 16826.4252,  acc 0.5554 || VAL loss 4786.5928, acc 0.4681\n",
      "2019-11-12 18:54:30|\t20: TRAIN loss 13045.4134,  acc 0.5656 || VAL loss 3795.7120, acc 0.5184\n",
      "2019-11-12 18:54:30|\t30: TRAIN loss 11019.0262,  acc 0.5781 || VAL loss 3415.3555, acc 0.5300\n",
      "2019-11-12 18:54:30|\t40: TRAIN loss 9811.1136,  acc 0.5989 || VAL loss 3159.6655, acc 0.5319\n",
      "2019-11-12 18:54:30|\t50: TRAIN loss 9156.5413,  acc 0.5873 || VAL loss 2859.3855, acc 0.5397\n",
      "2019-11-12 18:54:30|\t60: TRAIN loss 8474.3336,  acc 0.6125 || VAL loss 2931.6328, acc 0.5513\n",
      "2019-11-12 18:54:31|\t70: TRAIN loss 8022.2527,  acc 0.6270 || VAL loss 2728.5701, acc 0.5590\n",
      "2019-11-12 18:54:31|\t80: TRAIN loss 7726.1700,  acc 0.6323 || VAL loss 2680.3648, acc 0.5725\n",
      "2019-11-12 18:54:31|\t90: TRAIN loss 7505.6853,  acc 0.6289 || VAL loss 2617.1601, acc 0.5667\n",
      "2019-11-12 18:54:31|\t99: TRAIN loss 7221.4480,  acc 0.6318 || VAL loss 2603.3059, acc 0.5667\n",
      "F 300\n",
      "2019-11-12 18:54:31|\t0: TRAIN loss 101399.2074,  acc 0.0208 || VAL loss 25345.8632, acc 0.0135\n",
      "2019-11-12 18:54:31|\t10: TRAIN loss 13873.5416,  acc 0.6067 || VAL loss 4258.8765, acc 0.5338\n",
      "2019-11-12 18:54:31|\t20: TRAIN loss 10555.9455,  acc 0.6241 || VAL loss 3579.4013, acc 0.5338\n",
      "2019-11-12 18:54:31|\t30: TRAIN loss 8643.6691,  acc 0.6589 || VAL loss 3102.7842, acc 0.5764\n",
      "2019-11-12 18:54:32|\t40: TRAIN loss 7661.2286,  acc 0.6599 || VAL loss 2829.6343, acc 0.5725\n",
      "2019-11-12 18:54:32|\t50: TRAIN loss 6927.0208,  acc 0.6763 || VAL loss 2608.5945, acc 0.6015\n",
      "2019-11-12 18:54:32|\t60: TRAIN loss 6541.5447,  acc 0.6807 || VAL loss 2478.9194, acc 0.6170\n",
      "2019-11-12 18:54:32|\t70: TRAIN loss 6075.8682,  acc 0.6880 || VAL loss 2465.5379, acc 0.6190\n",
      "2019-11-12 18:54:32|\t80: TRAIN loss 5970.4840,  acc 0.6851 || VAL loss 2357.6068, acc 0.6228\n",
      "2019-11-12 18:54:32|\t90: TRAIN loss 5582.6715,  acc 0.6909 || VAL loss 2364.3351, acc 0.6228\n",
      "2019-11-12 18:54:32|\t99: TRAIN loss 5479.7459,  acc 0.6909 || VAL loss 2297.2737, acc 0.6209\n",
      "F 500\n",
      "2019-11-12 18:54:32|\t0: TRAIN loss 101200.2235,  acc 0.0126 || VAL loss 25331.8502, acc 0.0116\n",
      "2019-11-12 18:54:33|\t10: TRAIN loss 10260.3424,  acc 0.6899 || VAL loss 3730.9724, acc 0.5687\n",
      "2019-11-12 18:54:33|\t20: TRAIN loss 6789.4148,  acc 0.7252 || VAL loss 2811.0819, acc 0.6209\n",
      "2019-11-12 18:54:33|\t30: TRAIN loss 5603.9595,  acc 0.7383 || VAL loss 2468.7141, acc 0.6344\n",
      "2019-11-12 18:54:33|\t40: TRAIN loss 4914.1595,  acc 0.7470 || VAL loss 2370.7153, acc 0.6480\n",
      "2019-11-12 18:54:33|\t50: TRAIN loss 4384.7791,  acc 0.7484 || VAL loss 2265.1436, acc 0.6538\n",
      "2019-11-12 18:54:33|\t60: TRAIN loss 4139.6976,  acc 0.7499 || VAL loss 2160.9472, acc 0.6673\n",
      "2019-11-12 18:54:34|\t70: TRAIN loss 3707.2959,  acc 0.7697 || VAL loss 2100.0002, acc 0.6576\n",
      "2019-11-12 18:54:34|\t80: TRAIN loss 3478.1025,  acc 0.7775 || VAL loss 1992.2431, acc 0.6712\n",
      "2019-11-12 18:54:34|\t90: TRAIN loss 3313.9758,  acc 0.7755 || VAL loss 2020.1195, acc 0.6615\n",
      "2019-11-12 18:54:34|\t99: TRAIN loss 3175.2952,  acc 0.7726 || VAL loss 1991.0133, acc 0.6576\n",
      "F 1000\n",
      "2019-11-12 18:54:34|\t0: TRAIN loss 101186.3767,  acc 0.0155 || VAL loss 25331.5139, acc 0.0155\n",
      "2019-11-12 18:54:34|\t10: TRAIN loss 5906.2686,  acc 0.7929 || VAL loss 2982.4301, acc 0.6712\n",
      "2019-11-12 18:54:35|\t20: TRAIN loss 3724.2455,  acc 0.8195 || VAL loss 2296.5883, acc 0.6925\n",
      "2019-11-12 18:54:35|\t30: TRAIN loss 2832.0322,  acc 0.8321 || VAL loss 2171.0652, acc 0.6809\n",
      "2019-11-12 18:54:35|\t40: TRAIN loss 2419.5251,  acc 0.8355 || VAL loss 2043.2324, acc 0.7118\n",
      "2019-11-12 18:54:35|\t50: TRAIN loss 2092.5496,  acc 0.8515 || VAL loss 1995.8289, acc 0.6925\n",
      "2019-11-12 18:54:36|\t60: TRAIN loss 1868.5919,  acc 0.8534 || VAL loss 1924.1449, acc 0.6944\n",
      "2019-11-12 18:54:36|\t70: TRAIN loss 1702.2315,  acc 0.8636 || VAL loss 1839.3132, acc 0.7021\n",
      "2019-11-12 18:54:36|\t80: TRAIN loss 1581.5442,  acc 0.8674 || VAL loss 1805.8702, acc 0.7021\n",
      "2019-11-12 18:54:36|\t90: TRAIN loss 1489.9594,  acc 0.8665 || VAL loss 1812.9222, acc 0.7041\n",
      "2019-11-12 18:54:37|\t99: TRAIN loss 1398.7301,  acc 0.8737 || VAL loss 1757.9606, acc 0.7137\n",
      "F 2000\n",
      "2019-11-12 18:54:37|\t0: TRAIN loss 101291.2438,  acc 0.0155 || VAL loss 25333.2344, acc 0.0232\n",
      "2019-11-12 18:54:37|\t10: TRAIN loss 2612.4903,  acc 0.8766 || VAL loss 2713.8653, acc 0.7273\n",
      "2019-11-12 18:54:38|\t20: TRAIN loss 1606.0376,  acc 0.8926 || VAL loss 2363.5001, acc 0.7466\n",
      "2019-11-12 18:54:38|\t30: TRAIN loss 1275.2681,  acc 0.8965 || VAL loss 2316.5315, acc 0.7369\n",
      "2019-11-12 18:54:38|\t40: TRAIN loss 1078.5196,  acc 0.9013 || VAL loss 2285.4585, acc 0.7273\n",
      "2019-11-12 18:54:39|\t50: TRAIN loss 951.5953,  acc 0.9100 || VAL loss 2244.4618, acc 0.7311\n",
      "2019-11-12 18:54:39|\t60: TRAIN loss 858.7384,  acc 0.9173 || VAL loss 2224.3948, acc 0.7292\n",
      "2019-11-12 18:54:39|\t70: TRAIN loss 786.3894,  acc 0.9178 || VAL loss 2214.5527, acc 0.7408\n",
      "2019-11-12 18:54:40|\t80: TRAIN loss 724.2039,  acc 0.9245 || VAL loss 2194.0531, acc 0.7389\n",
      "2019-11-12 18:54:40|\t90: TRAIN loss 676.6720,  acc 0.9303 || VAL loss 2199.3601, acc 0.7408\n",
      "2019-11-12 18:54:40|\t99: TRAIN loss 635.3044,  acc 0.9323 || VAL loss 2195.5337, acc 0.7350\n",
      "F 3000\n",
      "2019-11-12 18:54:41|\t0: TRAIN loss 101331.9111,  acc 0.0198 || VAL loss 25371.5283, acc 0.0174\n",
      "2019-11-12 18:54:41|\t10: TRAIN loss 1870.4460,  acc 0.8950 || VAL loss 2631.9792, acc 0.7369\n",
      "2019-11-12 18:54:41|\t20: TRAIN loss 1193.1831,  acc 0.9081 || VAL loss 2448.2423, acc 0.7485\n",
      "2019-11-12 18:54:42|\t30: TRAIN loss 953.2747,  acc 0.9187 || VAL loss 2442.9341, acc 0.7524\n",
      "2019-11-12 18:54:42|\t40: TRAIN loss 806.5091,  acc 0.9245 || VAL loss 2426.1937, acc 0.7350\n",
      "2019-11-12 18:54:43|\t50: TRAIN loss 704.3378,  acc 0.9318 || VAL loss 2418.7005, acc 0.7485\n",
      "2019-11-12 18:54:43|\t60: TRAIN loss 628.4900,  acc 0.9381 || VAL loss 2402.5998, acc 0.7485\n",
      "2019-11-12 18:54:44|\t70: TRAIN loss 568.1571,  acc 0.9419 || VAL loss 2396.6381, acc 0.7369\n",
      "2019-11-12 18:54:44|\t80: TRAIN loss 519.1028,  acc 0.9439 || VAL loss 2413.7913, acc 0.7447\n",
      "2019-11-12 18:54:44|\t90: TRAIN loss 476.3401,  acc 0.9497 || VAL loss 2414.2582, acc 0.7408\n",
      "2019-11-12 18:54:45|\t99: TRAIN loss 440.5643,  acc 0.9540 || VAL loss 2412.9950, acc 0.7427\n",
      "F 5000\n",
      "2019-11-12 18:54:45|\t0: TRAIN loss 101245.7430,  acc 0.0140 || VAL loss 25326.3729, acc 0.0232\n",
      "2019-11-12 18:54:46|\t10: TRAIN loss 1416.3033,  acc 0.9153 || VAL loss 2710.7602, acc 0.7427\n",
      "2019-11-12 18:54:46|\t20: TRAIN loss 953.3796,  acc 0.9294 || VAL loss 2587.8944, acc 0.7582\n",
      "2019-11-12 18:54:47|\t30: TRAIN loss 751.0822,  acc 0.9381 || VAL loss 2538.9346, acc 0.7505\n",
      "2019-11-12 18:54:47|\t40: TRAIN loss 623.3582,  acc 0.9448 || VAL loss 2522.6171, acc 0.7485\n",
      "2019-11-12 18:54:48|\t50: TRAIN loss 530.7776,  acc 0.9545 || VAL loss 2506.8067, acc 0.7505\n",
      "2019-11-12 18:54:49|\t60: TRAIN loss 462.5580,  acc 0.9618 || VAL loss 2485.4996, acc 0.7505\n",
      "2019-11-12 18:54:49|\t70: TRAIN loss 407.3407,  acc 0.9661 || VAL loss 2491.0942, acc 0.7544\n",
      "2019-11-12 18:54:50|\t80: TRAIN loss 362.8178,  acc 0.9695 || VAL loss 2493.5941, acc 0.7544\n",
      "2019-11-12 18:54:50|\t90: TRAIN loss 327.2917,  acc 0.9715 || VAL loss 2486.6224, acc 0.7544\n",
      "2019-11-12 18:54:51|\t99: TRAIN loss 295.0174,  acc 0.9739 || VAL loss 2484.2690, acc 0.7582\n",
      "F 10000\n",
      "2019-11-12 18:54:51|\t0: TRAIN loss 101217.9528,  acc 0.0271 || VAL loss 25299.8154, acc 0.0329\n",
      "2019-11-12 18:54:53|\t10: TRAIN loss 1132.9944,  acc 0.9323 || VAL loss 2771.4873, acc 0.7544\n",
      "2019-11-12 18:54:55|\t20: TRAIN loss 742.7593,  acc 0.9531 || VAL loss 2681.0368, acc 0.7679\n",
      "2019-11-12 18:54:57|\t30: TRAIN loss 561.3374,  acc 0.9594 || VAL loss 2673.3768, acc 0.7679\n",
      "2019-11-12 18:54:59|\t40: TRAIN loss 449.1170,  acc 0.9657 || VAL loss 2649.3625, acc 0.7640\n",
      "2019-11-12 18:55:01|\t50: TRAIN loss 369.2895,  acc 0.9734 || VAL loss 2634.6914, acc 0.7698\n",
      "2019-11-12 18:55:02|\t60: TRAIN loss 310.5769,  acc 0.9777 || VAL loss 2627.0242, acc 0.7718\n",
      "2019-11-12 18:55:04|\t70: TRAIN loss 264.4813,  acc 0.9802 || VAL loss 2630.0745, acc 0.7698\n",
      "2019-11-12 18:55:06|\t80: TRAIN loss 230.0936,  acc 0.9836 || VAL loss 2625.3898, acc 0.7737\n",
      "2019-11-12 18:55:08|\t90: TRAIN loss 198.5259,  acc 0.9855 || VAL loss 2613.6655, acc 0.7737\n",
      "2019-11-12 18:55:10|\t99: TRAIN loss 174.0818,  acc 0.9850 || VAL loss 2623.2717, acc 0.7756\n",
      "F 20000\n",
      "2019-11-12 18:55:10|\t0: TRAIN loss 101253.8092,  acc 0.0164 || VAL loss 25342.5546, acc 0.0174\n",
      "2019-11-12 18:55:14|\t10: TRAIN loss 959.2950,  acc 0.9516 || VAL loss 2887.7110, acc 0.7640\n",
      "2019-11-12 18:55:17|\t20: TRAIN loss 601.6410,  acc 0.9632 || VAL loss 2800.6077, acc 0.7679\n",
      "2019-11-12 18:55:21|\t30: TRAIN loss 441.1873,  acc 0.9739 || VAL loss 2758.6503, acc 0.7737\n",
      "2019-11-12 18:55:24|\t40: TRAIN loss 341.2047,  acc 0.9806 || VAL loss 2752.4490, acc 0.7776\n",
      "2019-11-12 18:55:28|\t50: TRAIN loss 269.8991,  acc 0.9850 || VAL loss 2730.7677, acc 0.7698\n",
      "2019-11-12 18:55:31|\t60: TRAIN loss 219.2424,  acc 0.9860 || VAL loss 2716.7413, acc 0.7679\n",
      "2019-11-12 18:55:35|\t70: TRAIN loss 180.7126,  acc 0.9884 || VAL loss 2716.3531, acc 0.7679\n",
      "2019-11-12 18:55:39|\t80: TRAIN loss 150.9746,  acc 0.9903 || VAL loss 2712.1827, acc 0.7737\n",
      "2019-11-12 18:55:42|\t90: TRAIN loss 126.9573,  acc 0.9923 || VAL loss 2714.7561, acc 0.7679\n",
      "2019-11-12 18:55:46|\t99: TRAIN loss 107.3088,  acc 0.9923 || VAL loss 2718.0544, acc 0.7737\n",
      "F 27771\n",
      "2019-11-12 18:55:46|\t0: TRAIN loss 101228.2987,  acc 0.0223 || VAL loss 25314.3307, acc 0.0271\n",
      "2019-11-12 18:55:51|\t10: TRAIN loss 903.5130,  acc 0.9531 || VAL loss 2885.4615, acc 0.7621\n",
      "2019-11-12 18:55:57|\t20: TRAIN loss 565.4595,  acc 0.9681 || VAL loss 2825.2194, acc 0.7640\n",
      "2019-11-12 18:56:03|\t30: TRAIN loss 409.0172,  acc 0.9787 || VAL loss 2768.7833, acc 0.7718\n",
      "2019-11-12 18:56:09|\t40: TRAIN loss 310.6034,  acc 0.9845 || VAL loss 2756.7944, acc 0.7776\n",
      "2019-11-12 18:56:16|\t50: TRAIN loss 241.5908,  acc 0.9869 || VAL loss 2733.9823, acc 0.7737\n",
      "2019-11-12 18:56:23|\t60: TRAIN loss 194.0464,  acc 0.9889 || VAL loss 2741.8647, acc 0.7737\n",
      "2019-11-12 18:56:29|\t70: TRAIN loss 157.2348,  acc 0.9913 || VAL loss 2738.2144, acc 0.7756\n",
      "2019-11-12 18:56:35|\t80: TRAIN loss 130.1258,  acc 0.9923 || VAL loss 2735.5677, acc 0.7718\n",
      "2019-11-12 18:56:40|\t90: TRAIN loss 107.9951,  acc 0.9937 || VAL loss 2735.9320, acc 0.7660\n",
      "2019-11-12 18:56:46|\t99: TRAIN loss 90.3799,  acc 0.9937 || VAL loss 2738.1879, acc 0.7737\n",
      "Done.\n"
     ]
    }
   ],
   "source": [
    "# Display a progress bar that counts how many training rounds we have done so far\n",
    "progress2= IntProgress(min=0, max=len(Fs),description=\"Trials:\",bar_style=\"info\")\n",
    "display(progress2)\n",
    "\n",
    "\n",
    "logistic_train_error=[]\n",
    "logistic_val_error=[]\n",
    "progress2.value=0\n",
    "for F in Fs:\n",
    "    print(\"F\",F)\n",
    "    model=TextChi2Classifier(F,base_model)\n",
    "    model.fit(X,Y,X_val,Y_val)\n",
    "    Y_pred=model.predict(X)\n",
    "    logistic_train_error.append(1-np.mean(Y_pred==Y))\n",
    "    Y_pred=model.predict(X_val)\n",
    "    logistic_val_error.append(1-np.mean(Y_pred==Y_val))\n",
    "    progress2.value+=1\n",
    "print(\"Done.\")"
   ]
  },
  {
   "cell_type": "code",
   "execution_count": 25,
   "metadata": {
    "ExecuteTime": {
     "end_time": "2018-03-30T08:48:24.206576Z",
     "start_time": "2018-03-30T08:48:23.940922Z"
    }
   },
   "outputs": [
    {
     "data": {
      "text/plain": [
       "Text(0, 0.5, 'Classification Error')"
      ]
     },
     "execution_count": 25,
     "metadata": {},
     "output_type": "execute_result"
    },
    {
     "data": {
      "image/png": "[encoded data removed]",
      "text/plain": [
       "<Figure size 432x288 with 1 Axes>"
      ]
     },
     "metadata": {
      "needs_background": "light"
     },
     "output_type": "display_data"
    }
   ],
   "source": [
    "plt.plot(Fs,logistic_train_error,label=\"Train\")\n",
    "plt.plot(Fs,logistic_val_error,label=\"Valuation\")\n",
    "plt.legend()\n",
    "plt.title(\"Logistic Classifier Error vs Number Features\")\n",
    "plt.xlabel(\"Features\")\n",
    "plt.ylabel(\"Classification Error\")"
   ]
  },
  {
   "cell_type": "code",
   "execution_count": 26,
   "metadata": {
    "ExecuteTime": {
     "end_time": "2018-03-30T08:48:24.222202Z",
     "start_time": "2018-03-30T08:48:24.206576Z"
    }
   },
   "outputs": [
    {
     "name": "stdout",
     "output_type": "stream",
     "text": [
      "10000 0.22437137330754353\n"
     ]
    }
   ],
   "source": [
    "best_idx=np.array(logistic_val_error).argmin()\n",
    "best_F=Fs[best_idx]\n",
    "print(best_F,logistic_val_error[best_idx])"
   ]
  },
  {
   "cell_type": "markdown",
   "metadata": {},
   "source": [
    "1. The model is overfitting (training error is 0 after a few hundred Features)\n",
    "2. Test Error stabilizes after roughtly 5k features\n",
    "3. Logistic Regression performance does not degrade after we keep increasing the number of features"
   ]
  },
  {
   "cell_type": "markdown",
   "metadata": {},
   "source": [
    "Best Accuracy is $\\approx 83\\%$, slightly worse than logistic regression."
   ]
  },
  {
   "cell_type": "markdown",
   "metadata": {},
   "source": [
    "## Regularization of the SVM Regression Classifier"
   ]
  },
  {
   "cell_type": "code",
   "execution_count": 27,
   "metadata": {
    "ExecuteTime": {
     "end_time": "2018-03-30T08:48:24.237829Z",
     "start_time": "2018-03-30T08:48:24.222202Z"
    }
   },
   "outputs": [],
   "source": [
    "penalties=[0.0001,0.001,0.01,0.1,1,10,100]"
   ]
  },
  {
   "cell_type": "code",
   "execution_count": 28,
   "metadata": {
    "ExecuteTime": {
     "end_time": "2018-03-30T09:04:59.947406Z",
     "start_time": "2018-03-30T08:48:24.237829Z"
    }
   },
   "outputs": [
    {
     "name": "stdout",
     "output_type": "stream",
     "text": [
      "penalty: 0.0001\n",
      "2019-11-12 18:56:47|\t0: TRAIN loss 101363.8229,  acc 0.0155 || VAL loss 25342.3300, acc 0.0251\n",
      "2019-11-12 18:56:49|\t10: TRAIN loss 1142.8217,  acc 0.9376 || VAL loss 2796.1648, acc 0.7524\n",
      "2019-11-12 18:56:51|\t20: TRAIN loss 745.9911,  acc 0.9507 || VAL loss 2694.6504, acc 0.7640\n",
      "2019-11-12 18:56:54|\t30: TRAIN loss 559.6827,  acc 0.9603 || VAL loss 2658.6479, acc 0.7621\n",
      "2019-11-12 18:56:57|\t40: TRAIN loss 448.5429,  acc 0.9671 || VAL loss 2652.1838, acc 0.7621\n",
      "2019-11-12 18:57:00|\t50: TRAIN loss 369.3355,  acc 0.9744 || VAL loss 2639.8474, acc 0.7640\n",
      "2019-11-12 18:57:02|\t60: TRAIN loss 309.7448,  acc 0.9797 || VAL loss 2633.8159, acc 0.7679\n",
      "2019-11-12 18:57:04|\t70: TRAIN loss 263.8630,  acc 0.9816 || VAL loss 2622.8839, acc 0.7718\n",
      "2019-11-12 18:57:07|\t80: TRAIN loss 228.4848,  acc 0.9831 || VAL loss 2611.4277, acc 0.7698\n",
      "2019-11-12 18:57:09|\t90: TRAIN loss 198.3121,  acc 0.9855 || VAL loss 2615.1128, acc 0.7737\n",
      "2019-11-12 18:57:12|\t99: TRAIN loss 174.7382,  acc 0.9860 || VAL loss 2614.1854, acc 0.7718\n",
      "penalty: 0.001\n",
      "2019-11-12 18:57:12|\t0: TRAIN loss 101281.7081,  acc 0.0189 || VAL loss 25317.7007, acc 0.0155\n",
      "2019-11-12 18:57:15|\t10: TRAIN loss 1151.4428,  acc 0.9342 || VAL loss 2809.1021, acc 0.7485\n",
      "2019-11-12 18:57:17|\t20: TRAIN loss 737.2741,  acc 0.9482 || VAL loss 2687.8435, acc 0.7563\n",
      "2019-11-12 18:57:20|\t30: TRAIN loss 557.5440,  acc 0.9618 || VAL loss 2665.8939, acc 0.7640\n",
      "2019-11-12 18:57:22|\t40: TRAIN loss 446.7538,  acc 0.9686 || VAL loss 2632.1480, acc 0.7718\n",
      "2019-11-12 18:57:24|\t50: TRAIN loss 368.7633,  acc 0.9748 || VAL loss 2621.8307, acc 0.7698\n",
      "2019-11-12 18:57:26|\t60: TRAIN loss 310.3264,  acc 0.9802 || VAL loss 2613.8338, acc 0.7698\n",
      "2019-11-12 18:57:29|\t70: TRAIN loss 265.6801,  acc 0.9816 || VAL loss 2619.8086, acc 0.7621\n",
      "2019-11-12 18:57:31|\t80: TRAIN loss 229.0764,  acc 0.9831 || VAL loss 2604.1626, acc 0.7660\n",
      "2019-11-12 18:57:33|\t90: TRAIN loss 198.7649,  acc 0.9855 || VAL loss 2606.7929, acc 0.7698\n",
      "2019-11-12 18:57:35|\t99: TRAIN loss 175.5815,  acc 0.9865 || VAL loss 2617.0049, acc 0.7737\n",
      "penalty: 0.01\n",
      "2019-11-12 18:57:35|\t0: TRAIN loss 101361.8579,  acc 0.0135 || VAL loss 25357.3900, acc 0.0193\n",
      "2019-11-12 18:57:38|\t10: TRAIN loss 1141.7781,  acc 0.9395 || VAL loss 2802.9126, acc 0.7466\n",
      "2019-11-12 18:57:40|\t20: TRAIN loss 750.0269,  acc 0.9502 || VAL loss 2691.7185, acc 0.7640\n",
      "2019-11-12 18:57:42|\t30: TRAIN loss 570.6186,  acc 0.9608 || VAL loss 2670.7025, acc 0.7698\n",
      "2019-11-12 18:57:44|\t40: TRAIN loss 457.5762,  acc 0.9705 || VAL loss 2633.1143, acc 0.7640\n",
      "2019-11-12 18:57:47|\t50: TRAIN loss 382.1578,  acc 0.9734 || VAL loss 2662.9393, acc 0.7679\n",
      "2019-11-12 18:57:49|\t60: TRAIN loss 320.9573,  acc 0.9802 || VAL loss 2636.8122, acc 0.7698\n",
      "2019-11-12 18:57:51|\t70: TRAIN loss 276.1745,  acc 0.9821 || VAL loss 2646.6788, acc 0.7698\n",
      "2019-11-12 18:57:53|\t80: TRAIN loss 239.7024,  acc 0.9836 || VAL loss 2646.0816, acc 0.7698\n",
      "2019-11-12 18:57:56|\t90: TRAIN loss 209.6497,  acc 0.9855 || VAL loss 2640.0267, acc 0.7756\n",
      "2019-11-12 18:57:58|\t99: TRAIN loss 187.3324,  acc 0.9860 || VAL loss 2645.0923, acc 0.7776\n",
      "penalty: 0.1\n",
      "2019-11-12 18:57:58|\t0: TRAIN loss 101376.8589,  acc 0.0174 || VAL loss 25358.5823, acc 0.0155\n",
      "2019-11-12 18:58:00|\t10: TRAIN loss 1225.6758,  acc 0.9328 || VAL loss 2854.3377, acc 0.7544\n",
      "2019-11-12 18:58:03|\t20: TRAIN loss 835.4291,  acc 0.9516 || VAL loss 2809.1234, acc 0.7621\n",
      "2019-11-12 18:58:05|\t30: TRAIN loss 659.8021,  acc 0.9594 || VAL loss 2790.0603, acc 0.7679\n",
      "2019-11-12 18:58:07|\t40: TRAIN loss 551.9688,  acc 0.9690 || VAL loss 2784.3993, acc 0.7621\n",
      "2019-11-12 18:58:09|\t50: TRAIN loss 477.3706,  acc 0.9763 || VAL loss 2812.0012, acc 0.7640\n",
      "2019-11-12 18:58:12|\t60: TRAIN loss 421.5793,  acc 0.9806 || VAL loss 2823.0085, acc 0.7621\n",
      "2019-11-12 18:58:14|\t70: TRAIN loss 377.8827,  acc 0.9821 || VAL loss 2828.4306, acc 0.7660\n",
      "2019-11-12 18:58:16|\t80: TRAIN loss 343.7811,  acc 0.9826 || VAL loss 2851.6228, acc 0.7660\n",
      "2019-11-12 18:58:18|\t90: TRAIN loss 316.3351,  acc 0.9850 || VAL loss 2857.7460, acc 0.7698\n",
      "2019-11-12 18:58:20|\t99: TRAIN loss 292.9027,  acc 0.9865 || VAL loss 2883.4529, acc 0.7698\n",
      "penalty: 1\n",
      "2019-11-12 18:58:20|\t0: TRAIN loss 101409.1286,  acc 0.0169 || VAL loss 25400.8605, acc 0.0039\n",
      "2019-11-12 18:58:23|\t10: TRAIN loss 1898.6088,  acc 0.9381 || VAL loss 3595.9621, acc 0.7544\n",
      "2019-11-12 18:58:25|\t20: TRAIN loss 1577.0119,  acc 0.9540 || VAL loss 3714.6894, acc 0.7505\n",
      "2019-11-12 18:58:28|\t30: TRAIN loss 1422.2122,  acc 0.9608 || VAL loss 3864.6688, acc 0.7524\n",
      "2019-11-12 18:58:30|\t40: TRAIN loss 1329.4432,  acc 0.9676 || VAL loss 4043.3686, acc 0.7660\n",
      "2019-11-12 18:58:32|\t50: TRAIN loss 1253.8485,  acc 0.9753 || VAL loss 4183.7903, acc 0.7621\n",
      "2019-11-12 18:58:34|\t60: TRAIN loss 1195.2353,  acc 0.9797 || VAL loss 4338.5367, acc 0.7640\n",
      "2019-11-12 18:58:36|\t70: TRAIN loss 1157.3641,  acc 0.9816 || VAL loss 4493.0667, acc 0.7621\n",
      "2019-11-12 18:58:39|\t80: TRAIN loss 1118.9061,  acc 0.9831 || VAL loss 4657.2201, acc 0.7602\n",
      "2019-11-12 18:58:41|\t90: TRAIN loss 1094.0394,  acc 0.9840 || VAL loss 4817.2081, acc 0.7602\n",
      "2019-11-12 18:58:43|\t99: TRAIN loss 1064.9491,  acc 0.9860 || VAL loss 4950.6666, acc 0.7621\n",
      "penalty: 10\n",
      "2019-11-12 18:58:44|\t0: TRAIN loss 101568.8989,  acc 0.0092 || VAL loss 25568.4183, acc 0.0155\n",
      "2019-11-12 18:58:46|\t10: TRAIN loss 7007.2590,  acc 0.9429 || VAL loss 9012.4030, acc 0.7447\n",
      "2019-11-12 18:58:48|\t20: TRAIN loss 6799.6907,  acc 0.9507 || VAL loss 9431.5829, acc 0.7485\n",
      "2019-11-12 18:58:50|\t30: TRAIN loss 6797.1745,  acc 0.9613 || VAL loss 9671.8894, acc 0.7350\n",
      "2019-11-12 18:58:53|\t40: TRAIN loss 6699.3045,  acc 0.9632 || VAL loss 9722.7759, acc 0.7485\n",
      "2019-11-12 18:58:55|\t50: TRAIN loss 6640.3941,  acc 0.9676 || VAL loss 9919.8621, acc 0.7563\n",
      "2019-11-12 18:58:57|\t60: TRAIN loss 6653.1394,  acc 0.9642 || VAL loss 9948.7018, acc 0.7292\n",
      "2019-11-12 18:59:00|\t70: TRAIN loss 6581.5296,  acc 0.9637 || VAL loss 10006.5385, acc 0.7524\n",
      "2019-11-12 18:59:02|\t80: TRAIN loss 6586.8375,  acc 0.9666 || VAL loss 9972.8779, acc 0.7427\n",
      "2019-11-12 18:59:04|\t90: TRAIN loss 6667.5033,  acc 0.9671 || VAL loss 9952.4571, acc 0.7408\n",
      "2019-11-12 18:59:07|\t99: TRAIN loss 6499.3411,  acc 0.9686 || VAL loss 10009.0095, acc 0.7485\n",
      "penalty: 100\n",
      "2019-11-12 18:59:07|\t0: TRAIN loss 103844.1237,  acc 0.0189 || VAL loss 27828.0801, acc 0.0135\n",
      "2019-11-12 18:59:09|\t10: TRAIN loss 43231.6923,  acc 0.5844 || VAL loss 31632.0046, acc 0.4217\n",
      "2019-11-12 18:59:11|\t20: TRAIN loss 45379.7664,  acc 0.0968 || VAL loss 31977.1525, acc 0.0735\n",
      "2019-11-12 18:59:14|\t30: TRAIN loss 42527.7266,  acc 0.6792 || VAL loss 31606.0522, acc 0.4816\n",
      "2019-11-12 18:59:16|\t40: TRAIN loss 43022.1199,  acc 0.6942 || VAL loss 31424.0880, acc 0.5474\n",
      "2019-11-12 18:59:18|\t50: TRAIN loss 43404.3347,  acc 0.7049 || VAL loss 31218.3637, acc 0.5435\n",
      "2019-11-12 18:59:21|\t60: TRAIN loss 42631.9023,  acc 0.6004 || VAL loss 31269.4911, acc 0.4391\n",
      "2019-11-12 18:59:23|\t70: TRAIN loss 43703.9439,  acc 0.6096 || VAL loss 31645.3822, acc 0.4275\n",
      "2019-11-12 18:59:25|\t80: TRAIN loss 43790.5244,  acc 0.6880 || VAL loss 31937.7608, acc 0.5377\n",
      "2019-11-12 18:59:27|\t90: TRAIN loss 44055.2521,  acc 0.6512 || VAL loss 31445.0250, acc 0.4913\n",
      "2019-11-12 18:59:30|\t99: TRAIN loss 42795.6060,  acc 0.7209 || VAL loss 31446.2583, acc 0.5571\n",
      "Done.\n"
     ]
    }
   ],
   "source": [
    "# Display a progress bar that counts how many training rounds we have done so far\n",
    "#progress3= IntProgress(min=0, max=len(Cs),description=\"Trials:\",bar_style=\"info\")\n",
    "#display(progress3)\n",
    "\n",
    "train_error=[]\n",
    "val_error=[]\n",
    "#progress3.value=0\n",
    "for penalty in penalties:\n",
    "    print(\"penalty:\",penalty)\n",
    "    base_model=SVMGDClassifier(penalty=penalty,\n",
    "                               max_iter=100, \n",
    "                               learning_rate=0.005,\n",
    "                               tol=1e-8)\n",
    "    model=TextChi2Classifier(best_F,base_model)\n",
    "    model.fit(X,Y,X_val,Y_val)\n",
    "    Y_pred=model.predict(X)\n",
    "    train_error.append(1-np.mean(Y_pred==Y))\n",
    "    Y_pred=model.predict(X_val)\n",
    "    val_error.append(1-np.mean(Y_pred==Y_val))\n",
    "    #progress3.value+=1\n",
    "print(\"Done.\")"
   ]
  },
  {
   "cell_type": "code",
   "execution_count": 29,
   "metadata": {
    "ExecuteTime": {
     "end_time": "2018-03-30T09:05:00.927009Z",
     "start_time": "2018-03-30T09:04:59.954424Z"
    }
   },
   "outputs": [
    {
     "data": {
      "text/plain": [
       "Text(0, 0.5, 'Classification Error')"
      ]
     },
     "execution_count": 29,
     "metadata": {},
     "output_type": "execute_result"
    },
    {
     "data": {
      "image/png": "[encoded data removed]",
      "text/plain": [
       "<Figure size 432x288 with 1 Axes>"
      ]
     },
     "metadata": {
      "needs_background": "light"
     },
     "output_type": "display_data"
    }
   ],
   "source": [
    "plt.plot(penalties,train_error,label=\"Train\")\n",
    "plt.plot(penalties,val_error,label=\"Valuation\")\n",
    "plt.legend()\n",
    "plt.title(\"SVM Linear Classifier Error vs Regularization Penalty\")\n",
    "plt.xlabel(r\"penalty\")\n",
    "plt.xscale(\"log\")\n",
    "plt.ylabel(\"Classification Error\")"
   ]
  },
  {
   "cell_type": "code",
   "execution_count": 30,
   "metadata": {
    "ExecuteTime": {
     "end_time": "2018-03-30T09:28:20.584365Z",
     "start_time": "2018-03-30T09:28:20.578350Z"
    }
   },
   "outputs": [
    {
     "name": "stdout",
     "output_type": "stream",
     "text": [
      "10000 0.01 0.22243713733075432\n"
     ]
    }
   ],
   "source": [
    "best_idx=np.array(val_error).argmin()\n",
    "best_penalty=penalties[best_idx]\n",
    "print(best_F,best_penalty,val_error[best_idx])"
   ]
  },
  {
   "cell_type": "markdown",
   "metadata": {},
   "source": [
    "We have achieved a 84% accuracy comparable to Logistic Regression."
   ]
  },
  {
   "cell_type": "code",
   "execution_count": 31,
   "metadata": {
    "ExecuteTime": {
     "end_time": "2018-03-30T09:36:08.460921Z",
     "start_time": "2018-03-30T09:35:20.830336Z"
    }
   },
   "outputs": [],
   "source": [
    "X=countVectorizer.fit_transform(documents[\"filename\"])"
   ]
  },
  {
   "cell_type": "code",
   "execution_count": 32,
   "metadata": {
    "ExecuteTime": {
     "end_time": "2018-03-30T09:37:26.352929Z",
     "start_time": "2018-03-30T09:36:29.535931Z"
    }
   },
   "outputs": [],
   "source": [
    "X_test=countVectorizer.transform(test_documents[\"filename\"])"
   ]
  },
  {
   "cell_type": "code",
   "execution_count": 33,
   "metadata": {
    "ExecuteTime": {
     "end_time": "2018-03-30T09:37:26.357943Z",
     "start_time": "2018-03-30T09:37:26.353933Z"
    }
   },
   "outputs": [],
   "source": [
    "Y=documents[\"label\"]\n",
    "Y_test=test_documents[\"label\"]"
   ]
  },
  {
   "cell_type": "code",
   "execution_count": 34,
   "metadata": {
    "ExecuteTime": {
     "end_time": "2018-03-30T09:40:26.436496Z",
     "start_time": "2018-03-30T09:37:26.359948Z"
    }
   },
   "outputs": [
    {
     "name": "stdout",
     "output_type": "stream",
     "text": [
      "2019-11-12 19:00:52|\t0: TRAIN loss 126548.1918,  acc 0.0298 || VAL loss 118351.4050, acc 0.0273\n",
      "2019-11-12 19:00:55|\t10: TRAIN loss 1515.1983,  acc 0.9241 || VAL loss 11443.1558, acc 0.7546\n",
      "2019-11-12 19:00:59|\t20: TRAIN loss 1006.2164,  acc 0.9412 || VAL loss 10787.5195, acc 0.7699\n",
      "2019-11-12 19:01:02|\t30: TRAIN loss 761.8960,  acc 0.9520 || VAL loss 10511.2428, acc 0.7761\n",
      "2019-11-12 19:01:05|\t40: TRAIN loss 618.6247,  acc 0.9640 || VAL loss 10436.4571, acc 0.7777\n",
      "2019-11-12 19:01:08|\t50: TRAIN loss 507.7678,  acc 0.9687 || VAL loss 10313.7117, acc 0.7781\n",
      "2019-11-12 19:01:10|\t60: TRAIN loss 429.9288,  acc 0.9764 || VAL loss 10259.4596, acc 0.7798\n",
      "2019-11-12 19:01:13|\t70: TRAIN loss 370.9586,  acc 0.9795 || VAL loss 10263.9720, acc 0.7844\n",
      "2019-11-12 19:01:16|\t80: TRAIN loss 323.5381,  acc 0.9826 || VAL loss 10164.9556, acc 0.7868\n",
      "2019-11-12 19:01:19|\t90: TRAIN loss 286.2521,  acc 0.9834 || VAL loss 10223.9323, acc 0.7868\n",
      "2019-11-12 19:01:22|\t99: TRAIN loss 252.8285,  acc 0.9876 || VAL loss 10187.4579, acc 0.7893\n"
     ]
    },
    {
     "data": {
      "text/plain": [
       "<__main__.TextChi2Classifier at 0x1a1b08dc50>"
      ]
     },
     "execution_count": 34,
     "metadata": {},
     "output_type": "execute_result"
    }
   ],
   "source": [
    "base_model=SVMGDClassifier(penalty=best_penalty,\n",
    "                               max_iter=100, \n",
    "                               learning_rate=0.005,\n",
    "                               tol=1e-8)\n",
    "model=TextChi2Classifier(best_F,base_model)\n",
    "model.fit(X,Y,X_test,Y_test)"
   ]
  },
  {
   "cell_type": "code",
   "execution_count": 35,
   "metadata": {
    "ExecuteTime": {
     "end_time": "2018-03-30T09:40:26.513702Z",
     "start_time": "2018-03-30T09:40:26.438502Z"
    }
   },
   "outputs": [
    {
     "data": {
      "text/plain": [
       "0.7893211920529801"
      ]
     },
     "execution_count": 35,
     "metadata": {},
     "output_type": "execute_result"
    }
   ],
   "source": [
    "Y_pred=model.predict(X_test)\n",
    "np.mean(Y_pred==Y_test)"
   ]
  },
  {
   "cell_type": "markdown",
   "metadata": {
    "ExecuteTime": {
     "end_time": "2018-03-30T09:40:57.915156Z",
     "start_time": "2018-03-30T09:40:57.909141Z"
    }
   },
   "source": [
    "We achieve nearly 86% accuracy, very slighly better than LogisticRegression (85.80% vs 85.76%)"
   ]
  },
  {
   "cell_type": "code",
   "execution_count": null,
   "metadata": {
    "collapsed": true,
    "jupyter": {
     "outputs_hidden": true
    }
   },
   "outputs": [],
   "source": []
  }
 ],
 "metadata": {
  "kernelspec": {
   "display_name": "Python 3",
   "language": "python",
   "name": "python3"
  },
  "language_info": {
   "codemirror_mode": {
    "name": "ipython",
    "version": 3
   },
   "file_extension": ".py",
   "mimetype": "text/x-python",
   "name": "python",
   "nbconvert_exporter": "python",
   "pygments_lexer": "ipython3",
   "version": "3.7.3"
  },
  "toc": {
   "base_numbering": 1,
   "nav_menu": {},
   "number_sections": true,
   "sideBar": true,
   "skip_h1_title": true,
   "title_cell": "Table of Contents",
   "title_sidebar": "Contents",
   "toc_cell": false,
   "toc_position": {},
   "toc_section_display": "block",
   "toc_window_display": true
  },
  "widgets": {
   "state": {
    "8840df332ff740e480bbdd81936d3ffc": {
     "views": [
      {
       "cell_index": 47
      }
     ]
    },
    "9eb260872d73428aabe5e661910dc8ea": {
     "views": [
      {
       "cell_index": 62
      }
     ]
    },
    "e7eda7b7372b422e82445f28340b5cf5": {
     "views": [
      {
       "cell_index": 53
      }
     ]
    }
   },
   "version": "1.2.0"
  }
 },
 "nbformat": 4,
 "nbformat_minor": 4
}
